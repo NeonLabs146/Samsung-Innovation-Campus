{
  "nbformat": 4,
  "nbformat_minor": 0,
  "metadata": {
    "colab": {
      "provenance": []
    },
    "kernelspec": {
      "name": "python3",
      "display_name": "Python 3"
    },
    "language_info": {
      "name": "python"
    }
  },
  "cells": [
    {
      "cell_type": "markdown",
      "source": [
        "# Python Programing Basic  - Sequence Data type in Python"
      ],
      "metadata": {
        "id": "NvZEYi4hQZHj"
      }
    },
    {
      "cell_type": "markdown",
      "source": [
        "## UNIT 10 List and Tuple Data Types"
      ],
      "metadata": {
        "id": "0xw7nPGuQhTQ"
      }
    },
    {
      "cell_type": "markdown",
      "source": [
        "### what is List ?\n",
        "\n",
        "**List is a data structure that can contain an individual value in a single variable or data value.**\n",
        "\n",
        "  - It is much more convenient and efficient than writing and managing multiple variable names.\n",
        "  - Duplication and operation can be done all at once.\n",
        "\n",
        "**item or element**\n",
        "   - Items or elements form a list.   \n",
        "   - The data values are distinguished with a comma for saving.\n",
        "   - Reference is importation of the list and it uses index.\n",
        "   - The list declaration and element reference can be done as follows.\n",
        " \n"
      ],
      "metadata": {
        "id": "inXsLwvNRFHK"
      }
    },
    {
      "cell_type": "code",
      "execution_count": 163,
      "metadata": {
        "id": "B39dFoqhQTD1",
        "colab": {
          "base_uri": "https://localhost:8080/"
        },
        "outputId": "6de820a7-874f-4761-84e8-530b7aaead01"
      },
      "outputs": [
        {
          "output_type": "stream",
          "name": "stdout",
          "text": [
            "[86, 67, 89, 54, 91]\n"
          ]
        }
      ],
      "source": [
        "score_list = [86,67,89,54,91]\n",
        "print(score_list)"
      ]
    },
    {
      "cell_type": "code",
      "source": [
        "score_list = [86,67,89,54,91]\n",
        "print(score_list[0],score_list[3])"
      ],
      "metadata": {
        "colab": {
          "base_uri": "https://localhost:8080/"
        },
        "id": "RONVK47wBoMt",
        "outputId": "5b32802f-e81d-46b8-92a2-29c6c8efa511"
      },
      "execution_count": 164,
      "outputs": [
        {
          "output_type": "stream",
          "name": "stdout",
          "text": [
            "86 54\n"
          ]
        }
      ]
    },
    {
      "cell_type": "markdown",
      "source": [
        "### List and Index \n",
        "\n",
        "**No restrictions are applied to the data types to be included in the list.**\n",
        "\n",
        "   - Save and import the four strings including 'banana', 'apple', 'orange', 'kiwi’ in the fruits list.\n",
        "   - It is possible to save integers like 100, 200, 400 and string value ‘apple’ at the same time in the mixed_list.\n"
      ],
      "metadata": {
        "id": "QukO7dWjBzK0"
      }
    },
    {
      "cell_type": "code",
      "source": [
        "fruits = [\"banana\",\"apple\",\"orange\",\"kiwi\"]\n",
        "print(fruits)"
      ],
      "metadata": {
        "colab": {
          "base_uri": "https://localhost:8080/"
        },
        "id": "YPZlLEsoBtor",
        "outputId": "c90c304d-093b-48f7-f7be-0adcf8182ca8"
      },
      "execution_count": 165,
      "outputs": [
        {
          "output_type": "stream",
          "name": "stdout",
          "text": [
            "['banana', 'apple', 'orange', 'kiwi']\n"
          ]
        }
      ]
    },
    {
      "cell_type": "code",
      "source": [
        "mixed_lists = [100,200,\"apple\",400]\n",
        "print(mixed_lists)"
      ],
      "metadata": {
        "colab": {
          "base_uri": "https://localhost:8080/"
        },
        "id": "cuCzGsYRCPA9",
        "outputId": "4403153a-b1b1-42ea-ccce-05fc6e23a609"
      },
      "execution_count": 166,
      "outputs": [
        {
          "output_type": "stream",
          "name": "stdout",
          "text": [
            "[100, 200, 'apple', 400]\n"
          ]
        }
      ]
    },
    {
      "cell_type": "markdown",
      "source": [
        "### The range() function to create sequence \n",
        "\n",
        "   - A list can be created by using the range or strings.\n",
        "   - Obtain the sequence of numbers from 1 to 9 with the function range(1, 10) and create a list containing the array of those elements by using the list function.\n"
      ],
      "metadata": {
        "id": "L3lX8lqgCdVw"
      }
    },
    {
      "cell_type": "code",
      "source": [
        "list4 = list(range(1,4))\n",
        "print(list4)"
      ],
      "metadata": {
        "colab": {
          "base_uri": "https://localhost:8080/"
        },
        "id": "xOXm1DeLCYJy",
        "outputId": "71cb9c77-201a-47d0-a011-a37cd49b62e0"
      },
      "execution_count": 167,
      "outputs": [
        {
          "output_type": "stream",
          "name": "stdout",
          "text": [
            "[1, 2, 3]\n"
          ]
        }
      ]
    },
    {
      "cell_type": "markdown",
      "source": [
        "### List Indexing and calculating length \n",
        "\n",
        "  - In the list, the index of the first item is 0, and the index of the last item is n-1.\n",
        "  - Use the len function to calculate the number of items in the list, which in other words the length of the list.\n"
      ],
      "metadata": {
        "id": "sNldWvtjC1lL"
      }
    },
    {
      "cell_type": "code",
      "source": [
        "n_list = [11,22,33,44,55,66]\n",
        "\n",
        "# The length of n_list is 6, and the accessible indexing range is 0 ~ 5.\n",
        "print(n_list) \n",
        "print(len(n_list))"
      ],
      "metadata": {
        "colab": {
          "base_uri": "https://localhost:8080/"
        },
        "id": "_c34zPeoCtU-",
        "outputId": "acc56ff6-4697-422b-dd79-0f782c604514"
      },
      "execution_count": 168,
      "outputs": [
        {
          "output_type": "stream",
          "name": "stdout",
          "text": [
            "[11, 22, 33, 44, 55, 66]\n",
            "6\n"
          ]
        }
      ]
    },
    {
      "cell_type": "code",
      "source": [
        "print(n_list[0],n_list[1])"
      ],
      "metadata": {
        "colab": {
          "base_uri": "https://localhost:8080/"
        },
        "id": "XWnjOacaDK4f",
        "outputId": "b44b5c30-4a72-422c-ba92-39f5a9747a46"
      },
      "execution_count": 169,
      "outputs": [
        {
          "output_type": "stream",
          "name": "stdout",
          "text": [
            "11 22\n"
          ]
        }
      ]
    },
    {
      "cell_type": "markdown",
      "source": [
        "### Cautions in list indexing\n",
        "\n",
        " - Do not deviate index range"
      ],
      "metadata": {
        "id": "1QJPysnODcQn"
      }
    },
    {
      "cell_type": "code",
      "source": [
        "n_list = [11,22,33,44,55,66]\n",
        "print(n_list[5])"
      ],
      "metadata": {
        "colab": {
          "base_uri": "https://localhost:8080/"
        },
        "id": "LFnoIHDEDX7k",
        "outputId": "109513b4-3e60-42bc-e305-e451fea4e3e0"
      },
      "execution_count": 170,
      "outputs": [
        {
          "output_type": "stream",
          "name": "stdout",
          "text": [
            "66\n"
          ]
        }
      ]
    },
    {
      "cell_type": "code",
      "source": [
        "print(n_list[6])"
      ],
      "metadata": {
        "colab": {
          "base_uri": "https://localhost:8080/",
          "height": 166
        },
        "id": "wmJ4b1JKDs93",
        "outputId": "e3d62a6f-7ee7-4b96-942c-d4fce16a214a"
      },
      "execution_count": 171,
      "outputs": [
        {
          "output_type": "error",
          "ename": "IndexError",
          "evalue": "ignored",
          "traceback": [
            "\u001b[0;31m---------------------------------------------------------------------------\u001b[0m",
            "\u001b[0;31mIndexError\u001b[0m                                Traceback (most recent call last)",
            "\u001b[0;32m<ipython-input-171-65a874442688>\u001b[0m in \u001b[0;36m<module>\u001b[0;34m\u001b[0m\n\u001b[0;32m----> 1\u001b[0;31m \u001b[0mprint\u001b[0m\u001b[0;34m(\u001b[0m\u001b[0mn_list\u001b[0m\u001b[0;34m[\u001b[0m\u001b[0;36m6\u001b[0m\u001b[0;34m]\u001b[0m\u001b[0;34m)\u001b[0m\u001b[0;34m\u001b[0m\u001b[0;34m\u001b[0m\u001b[0m\n\u001b[0m",
            "\u001b[0;31mIndexError\u001b[0m: list index out of range"
          ]
        }
      ]
    },
    {
      "cell_type": "markdown",
      "source": [
        " - Do not insert an index value that is greater than the max. index value.\n",
        " - The max. index is len(n_list)-1.\n",
        " - When deviating the accessible index range, the following error occurs:  IndexError: list index out of range\n"
      ],
      "metadata": {
        "id": "FdfqY4hqD1dM"
      }
    },
    {
      "cell_type": "markdown",
      "source": [
        "### Negative Index\n",
        "   - Making an approach to the element is possible by using negative indices. \n"
      ],
      "metadata": {
        "id": "wQ5RachdD9OA"
      }
    },
    {
      "cell_type": "code",
      "source": [
        "n_list = [11,22,33,44,55,66]\n",
        "\n",
        "print(n_list[-1]) # The last element value of the list can be approached with the negative index -1.\n",
        "\n",
        "print(n_list[-2])\n",
        "print(n_list[-3])"
      ],
      "metadata": {
        "id": "MSajb9WGDu39"
      },
      "execution_count": null,
      "outputs": []
    },
    {
      "cell_type": "markdown",
      "source": [
        "### Addition, Deletion, and Expansion of List Elements\n",
        "\n",
        "   - Use the + calculation to add two different lists.\n",
        "   - In the following cases, all items of person 1 and person 2 will be included in a single list.\n",
        "\n"
      ],
      "metadata": {
        "id": "zAym8BNKEXzm"
      }
    },
    {
      "cell_type": "code",
      "source": [
        "person1 = [\"john Doe\",10, 11,180,90.25]\n",
        "person2 = [\"john smith\",11,22,190,91.78]"
      ],
      "metadata": {
        "id": "SMyU72TUELGS"
      },
      "execution_count": null,
      "outputs": []
    },
    {
      "cell_type": "code",
      "source": [
        "person_list = person1+person2\n",
        "print(person_list)"
      ],
      "metadata": {
        "id": "zHoETdBfEyin"
      },
      "execution_count": null,
      "outputs": []
    },
    {
      "cell_type": "markdown",
      "source": [
        "### The append() method for list element addition\n",
        "\n",
        "   - Addition or deletion of desired items is possible in the existing list\n",
        "   - append method: A method to insert a new item to the end of an existing list.\n",
        "   - Method is the built-in function of a list and is called by using the .(dot) operator. \n",
        "   - Method will be discussed in detail later.\n"
      ],
      "metadata": {
        "id": "LJ8WFbBLFCWV"
      }
    },
    {
      "cell_type": "code",
      "source": [
        "a_list = ['a','b','c','d','e']\n",
        "a_list.append('f')\n",
        "print(a_list)"
      ],
      "metadata": {
        "id": "lKY4jq4oE0gh"
      },
      "execution_count": null,
      "outputs": []
    },
    {
      "cell_type": "code",
      "source": [
        "n_list = [1,2,3,4]\n",
        "n_list.append(5)\n",
        "print(n_list)"
      ],
      "metadata": {
        "id": "nKbTWU1dFSXm"
      },
      "execution_count": null,
      "outputs": []
    },
    {
      "cell_type": "markdown",
      "source": [
        "### The extend() method for list element addition\n",
        "\n",
        "  - extend method: Adds a list or item behind the list. \n",
        "  - As provided below, arguments [1, 2, 3] are given. If so, the elements of the [1, 2, 3] list are added to the behind of the [‘a’, ‘b’, ‘c’] list which will result in [‘a’, ‘b’, ‘c’, 1, 2, 3].\n",
        "  - Inserting an individual element such as ‘d’ is also possible.\n"
      ],
      "metadata": {
        "id": "jGV4ZC6RFjmD"
      }
    },
    {
      "cell_type": "code",
      "source": [
        "list1 = ['a','b','c','d']\n",
        "list2 = [1,2,3]\n",
        "\n",
        "list1.extend(list2)\n",
        "\n",
        "print(list1)"
      ],
      "metadata": {
        "id": "k5hLryRjFcWH"
      },
      "execution_count": null,
      "outputs": []
    },
    {
      "cell_type": "code",
      "source": [
        "list1.extend('d')\n",
        "print(list1)"
      ],
      "metadata": {
        "id": "tpwVnynbF1CX"
      },
      "execution_count": null,
      "outputs": []
    },
    {
      "cell_type": "markdown",
      "source": [
        "   - When using the append method to the list1 below, the result [11, 22, 33, 44, 55, 66] won’t be generated.\n",
        "   - When calling the list1.append([5AC5, 66]) method, the list items [55, 66] will be added behind [11, 22, 33, 44], so the list1 will be [11, 22, 33, 44, [55, 66]].\n"
      ],
      "metadata": {
        "id": "DnYgePHsGEB6"
      }
    },
    {
      "cell_type": "code",
      "source": [
        "list1 = [11,22,33,44]\n",
        "list1.append([55,66])\n",
        "print(list1)"
      ],
      "metadata": {
        "id": "3rQEMho-F6ng"
      },
      "execution_count": null,
      "outputs": []
    },
    {
      "cell_type": "markdown",
      "source": [
        " - When adding the items of a new list inside a list, the extend method can be used. \n",
        "- Practice with making the following program.\n"
      ],
      "metadata": {
        "id": "mxkl_IgdGSPL"
      }
    },
    {
      "cell_type": "code",
      "source": [
        "list1 = [11,22,33,44]\n",
        "list1.extend([55,66])\n",
        "print(list1)"
      ],
      "metadata": {
        "id": "jxj0_KtAGNYL"
      },
      "execution_count": null,
      "outputs": []
    },
    {
      "cell_type": "markdown",
      "source": [
        "### Deletion with del keyword\n",
        "\n",
        " - Delete the item in the designated index\n",
        " - Caution: Deletion is not possible with the del 44 method.\n"
      ],
      "metadata": {
        "id": "frTAtlhqGchs"
      }
    },
    {
      "cell_type": "code",
      "source": [
        "n_list = [11,22,33,44,55,66]\n",
        "print(n_list)"
      ],
      "metadata": {
        "id": "Q_yvISPpGX5r"
      },
      "execution_count": null,
      "outputs": []
    },
    {
      "cell_type": "code",
      "source": [
        "del n_list[2]\n",
        "print(n_list)"
      ],
      "metadata": {
        "id": "BIlUXNO9GppF"
      },
      "execution_count": null,
      "outputs": []
    },
    {
      "cell_type": "markdown",
      "source": [
        "### Deletion with pop() method \n",
        "\n",
        "The pop method returns and delete the last item of the list. \n"
      ],
      "metadata": {
        "id": "JPjkPoWzGz8E"
      }
    },
    {
      "cell_type": "code",
      "source": [
        "n_list = [10,20,30,40,50]\n",
        "\n",
        "print(n_list)"
      ],
      "metadata": {
        "id": "6ZywO0nNGs3m"
      },
      "execution_count": null,
      "outputs": []
    },
    {
      "cell_type": "code",
      "source": [
        "n = n_list.pop()\n",
        "\n",
        "print(f'Element poped:{n}')\n",
        "print(f'The new list is: {n_list}')"
      ],
      "metadata": {
        "id": "wvbjv_QcG74X"
      },
      "execution_count": null,
      "outputs": []
    },
    {
      "cell_type": "markdown",
      "source": [
        "### Deletion with remove() method \n",
        "\n",
        " - Delete a certain value from the list by using the list’s method.\n",
        " - Use the same method as remove(44). \n"
      ],
      "metadata": {
        "id": "akLQj1nuHL51"
      }
    },
    {
      "cell_type": "code",
      "source": [
        "n_list = [11,22,33,44,55,66]\n",
        "print(n_list)\n",
        "\n",
        "n_list.remove(44)\n",
        "\n",
        "print(n_list)"
      ],
      "metadata": {
        "id": "INJXindmHGtQ"
      },
      "execution_count": null,
      "outputs": []
    },
    {
      "cell_type": "markdown",
      "source": [
        " - An error occurs when deleting an invalid item with the remove method.\n",
        " - Do not insert an invalid value.\n"
      ],
      "metadata": {
        "id": "4SAl57YbHevc"
      }
    },
    {
      "cell_type": "code",
      "source": [
        "n_list.remove(99)"
      ],
      "metadata": {
        "id": "AaLued3xHYuu"
      },
      "execution_count": null,
      "outputs": []
    },
    {
      "cell_type": "markdown",
      "source": [
        "### List Slicing : Example"
      ],
      "metadata": {
        "id": "eb_piiqwHsih"
      }
    },
    {
      "cell_type": "code",
      "source": [
        "a_list = list(range(10,90,10))\n",
        "print(a_list)"
      ],
      "metadata": {
        "id": "0qIBgOnsHi4j"
      },
      "execution_count": null,
      "outputs": []
    },
    {
      "cell_type": "code",
      "source": [
        "a_list[1:5]"
      ],
      "metadata": {
        "id": "HPKP7sqPHx2Q"
      },
      "execution_count": null,
      "outputs": []
    },
    {
      "cell_type": "code",
      "source": [
        "a_list[0:4]"
      ],
      "metadata": {
        "id": "_FnedVk6IMV2"
      },
      "execution_count": null,
      "outputs": []
    },
    {
      "cell_type": "code",
      "source": [
        "a_list[4:8]"
      ],
      "metadata": {
        "id": "RMjGu6XEIWaf"
      },
      "execution_count": null,
      "outputs": []
    },
    {
      "cell_type": "code",
      "source": [
        "a_list[:]"
      ],
      "metadata": {
        "id": "4XHOk1NRIYug"
      },
      "execution_count": null,
      "outputs": []
    },
    {
      "cell_type": "code",
      "source": [
        "a_list[:4]"
      ],
      "metadata": {
        "id": "ppHYeTmhIbFT"
      },
      "execution_count": null,
      "outputs": []
    },
    {
      "cell_type": "code",
      "source": [
        "a_list[4:]"
      ],
      "metadata": {
        "colab": {
          "base_uri": "https://localhost:8080/"
        },
        "id": "llaxJzK2If9l",
        "outputId": "a510287b-f859-454f-f8a3-21e48b777208"
      },
      "execution_count": 172,
      "outputs": [
        {
          "output_type": "execute_result",
          "data": {
            "text/plain": [
              "[]"
            ]
          },
          "metadata": {},
          "execution_count": 172
        }
      ]
    },
    {
      "cell_type": "markdown",
      "source": [
        "### List slicing of negative indices\n",
        "\n",
        "The index of the end element becomes -1, and the elements in front of it are assigned -2, -3, … \n",
        "\n"
      ],
      "metadata": {
        "id": "abhMS_V5KWoX"
      }
    },
    {
      "cell_type": "code",
      "source": [
        "a_list = list(range(10,90,10))\n",
        "neg_index = list(range(-8,0,1))\n",
        "print(a_list)\n",
        "print(neg_index)"
      ],
      "metadata": {
        "colab": {
          "base_uri": "https://localhost:8080/"
        },
        "id": "RKG8PzTxIhc0",
        "outputId": "9f9b2560-a046-4da7-85e9-c3458989cf6c"
      },
      "execution_count": 173,
      "outputs": [
        {
          "output_type": "stream",
          "name": "stdout",
          "text": [
            "[10, 20, 30, 40, 50, 60, 70, 80]\n",
            "[-8, -7, -6, -5, -4, -3, -2, -1]\n"
          ]
        }
      ]
    },
    {
      "cell_type": "code",
      "source": [
        "a_list[neg_index[0]]"
      ],
      "metadata": {
        "colab": {
          "base_uri": "https://localhost:8080/"
        },
        "id": "ZTaxDIDxK34c",
        "outputId": "f2791e08-f238-434d-c7ec-e28b9afa885b"
      },
      "execution_count": 174,
      "outputs": [
        {
          "output_type": "execute_result",
          "data": {
            "text/plain": [
              "10"
            ]
          },
          "metadata": {},
          "execution_count": 174
        }
      ]
    },
    {
      "cell_type": "code",
      "source": [
        "a_list[neg_index[3]]"
      ],
      "metadata": {
        "colab": {
          "base_uri": "https://localhost:8080/"
        },
        "id": "OA9I00GwLMmE",
        "outputId": "9ddf9f0e-2fa6-4d7f-e863-3c10741ca987"
      },
      "execution_count": 175,
      "outputs": [
        {
          "output_type": "execute_result",
          "data": {
            "text/plain": [
              "40"
            ]
          },
          "metadata": {},
          "execution_count": 175
        }
      ]
    },
    {
      "cell_type": "code",
      "source": [
        "a_list[-7:]"
      ],
      "metadata": {
        "colab": {
          "base_uri": "https://localhost:8080/"
        },
        "id": "XyaaKP3JLdNZ",
        "outputId": "f7ff464b-083e-41df-f6e2-ce866f827198"
      },
      "execution_count": 176,
      "outputs": [
        {
          "output_type": "execute_result",
          "data": {
            "text/plain": [
              "[20, 30, 40, 50, 60, 70, 80]"
            ]
          },
          "metadata": {},
          "execution_count": 176
        }
      ]
    },
    {
      "cell_type": "code",
      "source": [
        "a_list[-7:-1]"
      ],
      "metadata": {
        "colab": {
          "base_uri": "https://localhost:8080/"
        },
        "id": "GQdJ5bNBLf4r",
        "outputId": "5bf9c3f1-6761-4d53-94ae-1c2441f64ebb"
      },
      "execution_count": 177,
      "outputs": [
        {
          "output_type": "execute_result",
          "data": {
            "text/plain": [
              "[20, 30, 40, 50, 60, 70]"
            ]
          },
          "metadata": {},
          "execution_count": 177
        }
      ]
    },
    {
      "cell_type": "code",
      "source": [
        "a_list[-3:-7] # doesnot support"
      ],
      "metadata": {
        "colab": {
          "base_uri": "https://localhost:8080/"
        },
        "id": "YEhGrPy6LidG",
        "outputId": "47f08378-a4d8-4fdf-e870-e0dd98971882"
      },
      "execution_count": 178,
      "outputs": [
        {
          "output_type": "execute_result",
          "data": {
            "text/plain": [
              "[]"
            ]
          },
          "metadata": {},
          "execution_count": 178
        }
      ]
    },
    {
      "cell_type": "code",
      "source": [
        "a_list[-8:-4]\n"
      ],
      "metadata": {
        "colab": {
          "base_uri": "https://localhost:8080/"
        },
        "id": "BGGL18tZLlSz",
        "outputId": "ffdfb15a-71b5-40a8-fcd0-23fc62dcd259"
      },
      "execution_count": 179,
      "outputs": [
        {
          "output_type": "execute_result",
          "data": {
            "text/plain": [
              "[10, 20, 30, 40]"
            ]
          },
          "metadata": {},
          "execution_count": 179
        }
      ]
    },
    {
      "cell_type": "code",
      "source": [
        "a_list[-4:]"
      ],
      "metadata": {
        "colab": {
          "base_uri": "https://localhost:8080/"
        },
        "id": "JPhcQd19Lyn0",
        "outputId": "a8704a70-be77-4e1d-9c3a-197ab99432c5"
      },
      "execution_count": 180,
      "outputs": [
        {
          "output_type": "execute_result",
          "data": {
            "text/plain": [
              "[50, 60, 70, 80]"
            ]
          },
          "metadata": {},
          "execution_count": 180
        }
      ]
    },
    {
      "cell_type": "markdown",
      "source": [
        "### Examining External list values \n",
        "\n",
        "In Operator \n",
        "\n",
        " - “in” operator returns True or False. After examining to see if an element is at a specific sequence, if it is found, it returns True, and False if not. (T“not in” operator returns the opposite.)\n",
        " - However, the for() can list each of the item by using the “in” operator.\n",
        " \n",
        " - It is used to examine if a specific element is included in the data structures such as strings, lists, and tuple.\n"
      ],
      "metadata": {
        "id": "Wh-OQYoGL5Cf"
      }
    },
    {
      "cell_type": "code",
      "source": [
        "a_list = [10,20,30,40]\n",
        "10 in a_list "
      ],
      "metadata": {
        "colab": {
          "base_uri": "https://localhost:8080/"
        },
        "id": "COnG1-pzL1Gm",
        "outputId": "4d5a9e8c-446b-4921-f591-d85ff4df57bc"
      },
      "execution_count": 181,
      "outputs": [
        {
          "output_type": "execute_result",
          "data": {
            "text/plain": [
              "True"
            ]
          },
          "metadata": {},
          "execution_count": 181
        }
      ]
    },
    {
      "cell_type": "code",
      "source": [
        "-10 in a_list"
      ],
      "metadata": {
        "colab": {
          "base_uri": "https://localhost:8080/"
        },
        "id": "03pXY59HMPxo",
        "outputId": "b162c42a-c225-4852-f8a8-c8b2874e84c2"
      },
      "execution_count": 182,
      "outputs": [
        {
          "output_type": "execute_result",
          "data": {
            "text/plain": [
              "False"
            ]
          },
          "metadata": {},
          "execution_count": 182
        }
      ]
    },
    {
      "cell_type": "code",
      "source": [
        "'a' in a_list"
      ],
      "metadata": {
        "colab": {
          "base_uri": "https://localhost:8080/"
        },
        "id": "QZPVZe-MMRg_",
        "outputId": "3ab56d0f-05bc-41d2-9861-27672880b4b8"
      },
      "execution_count": 183,
      "outputs": [
        {
          "output_type": "execute_result",
          "data": {
            "text/plain": [
              "False"
            ]
          },
          "metadata": {},
          "execution_count": 183
        }
      ]
    },
    {
      "cell_type": "code",
      "source": [
        "'a' not in a_list"
      ],
      "metadata": {
        "colab": {
          "base_uri": "https://localhost:8080/"
        },
        "id": "3WoDjXA_MTbh",
        "outputId": "41a65530-1316-4d64-b0bf-f960218b33da"
      },
      "execution_count": 184,
      "outputs": [
        {
          "output_type": "execute_result",
          "data": {
            "text/plain": [
              "True"
            ]
          },
          "metadata": {},
          "execution_count": 184
        }
      ]
    },
    {
      "cell_type": "code",
      "source": [
        "# use of in operator: for loop implementation \n",
        "\n",
        "for i in a_list:\n",
        "  print(i,end=\" \")"
      ],
      "metadata": {
        "colab": {
          "base_uri": "https://localhost:8080/"
        },
        "id": "x4q3x9z2MZ9c",
        "outputId": "402a7a8b-f820-4a4a-8147-ccc1d1640a03"
      },
      "execution_count": 185,
      "outputs": [
        {
          "output_type": "stream",
          "name": "stdout",
          "text": [
            "10 20 30 40 "
          ]
        }
      ]
    },
    {
      "cell_type": "markdown",
      "source": [
        " - Prevent an error in advance by using “in” operation.\n",
        " - Check if there’s a value that will be deleted. Delete with the remove method only if there’s a value for deletion.\n"
      ],
      "metadata": {
        "id": "84we3jn9Mt6M"
      }
    },
    {
      "cell_type": "code",
      "source": [
        "n_list = list(range(10,20))"
      ],
      "metadata": {
        "id": "UPrMnNwzMltJ"
      },
      "execution_count": 186,
      "outputs": []
    },
    {
      "cell_type": "code",
      "source": [
        "print(n_list)"
      ],
      "metadata": {
        "colab": {
          "base_uri": "https://localhost:8080/"
        },
        "id": "0G4zTsagM6S4",
        "outputId": "97a12364-2136-4ca0-b8bb-dc6779dc9c91"
      },
      "execution_count": 187,
      "outputs": [
        {
          "output_type": "stream",
          "name": "stdout",
          "text": [
            "[10, 11, 12, 13, 14, 15, 16, 17, 18, 19]\n"
          ]
        }
      ]
    },
    {
      "cell_type": "code",
      "source": [
        "if 10 in n_list:\n",
        "  n_list.remove(10)\n",
        "\n",
        "print(n_list)\n",
        "\n",
        "if 17 in n_list:\n",
        "  n_list.remove(17)\n",
        "\n",
        "\n",
        "print(n_list)"
      ],
      "metadata": {
        "colab": {
          "base_uri": "https://localhost:8080/"
        },
        "id": "_c_iJTwDM8dm",
        "outputId": "f7e52e6e-9a7b-4c31-df4f-c3a4d69e63b5"
      },
      "execution_count": 188,
      "outputs": [
        {
          "output_type": "stream",
          "name": "stdout",
          "text": [
            "[11, 12, 13, 14, 15, 16, 17, 18, 19]\n",
            "[11, 12, 13, 14, 15, 16, 18, 19]\n"
          ]
        }
      ]
    },
    {
      "cell_type": "markdown",
      "source": [
        "## Tuple: mutable and immutable data type\n",
        "\n",
        "- Python data types are classified in immutable and mutable data types as provided in the figure below. Tuple is extremely similar with the list.However, the data of tuple cannot be changed once designated, and it is a representative immutable data type.\n",
        "- Once designated, tuple data cannot be changed, so its simple structure and quick access speed compared to the list are advantages of tuple. Choose an appropriate data type depending on the purpose. \n",
        "\n"
      ],
      "metadata": {
        "id": "jLF9CyKTNPG6"
      }
    },
    {
      "cell_type": "markdown",
      "source": [
        "### Data type in which the values cannot be changed once created: Tuple\n",
        "\n",
        " - Create a simple tuple as follows.\n",
        " - It seems similar with the list, but there are differences between them. \n"
      ],
      "metadata": {
        "id": "wbHETT5mNlDj"
      }
    },
    {
      "cell_type": "code",
      "source": [
        "colors = (\"red\",\"green\",\"blue\")\n",
        "print(colors)"
      ],
      "metadata": {
        "colab": {
          "base_uri": "https://localhost:8080/"
        },
        "id": "JYJrRRUVNJ6U",
        "outputId": "3ba1fc14-6a69-4aa4-fc4e-c80beb508d21"
      },
      "execution_count": 189,
      "outputs": [
        {
          "output_type": "stream",
          "name": "stdout",
          "text": [
            "('red', 'green', 'blue')\n"
          ]
        }
      ]
    },
    {
      "cell_type": "code",
      "source": [
        "numbers  = (1,2,3,4,5)\n",
        "print(numbers)"
      ],
      "metadata": {
        "colab": {
          "base_uri": "https://localhost:8080/"
        },
        "id": "ezyS-YeUNvm_",
        "outputId": "8047b191-c84c-437b-a8c5-c4748892069c"
      },
      "execution_count": 190,
      "outputs": [
        {
          "output_type": "stream",
          "name": "stdout",
          "text": [
            "(1, 2, 3, 4, 5)\n"
          ]
        }
      ]
    },
    {
      "cell_type": "code",
      "source": [
        "print(type(colors))\n",
        "print(type(numbers))"
      ],
      "metadata": {
        "colab": {
          "base_uri": "https://localhost:8080/"
        },
        "id": "DWVBtxyfN0Kd",
        "outputId": "83bae5b6-8b0e-47ca-f309-87730255f262"
      },
      "execution_count": 191,
      "outputs": [
        {
          "output_type": "stream",
          "name": "stdout",
          "text": [
            "<class 'tuple'>\n",
            "<class 'tuple'>\n"
          ]
        }
      ]
    },
    {
      "cell_type": "markdown",
      "source": [
        "Data type in which the values cannot be changed once created: Tuple\n",
        "\n",
        "\n",
        "- The most important characteristic of the tuple is that the values won’t be changed.\n",
        "- If trying to change the internal values of tuple as shown in the code above, TypeError occurs. \n",
        "- An error also occurs when trying to delete the element value by using del t1[0].\n"
      ],
      "metadata": {
        "id": "mbZu_R_ZSw4p"
      }
    },
    {
      "cell_type": "code",
      "source": [
        "t1 = (1,2,3,4)\n",
        "print(t1)"
      ],
      "metadata": {
        "colab": {
          "base_uri": "https://localhost:8080/"
        },
        "id": "0k0lKGBmN3j3",
        "outputId": "29cb7fa8-1ca2-47ca-8d90-579a8c7ff21f"
      },
      "execution_count": 192,
      "outputs": [
        {
          "output_type": "stream",
          "name": "stdout",
          "text": [
            "(1, 2, 3, 4)\n"
          ]
        }
      ]
    },
    {
      "cell_type": "code",
      "source": [
        "t1[0] = 100"
      ],
      "metadata": {
        "colab": {
          "base_uri": "https://localhost:8080/",
          "height": 166
        },
        "id": "PG2lCjwNS7bY",
        "outputId": "ff375727-2a0a-4bde-e8b5-02e869b2d77d"
      },
      "execution_count": 193,
      "outputs": [
        {
          "output_type": "error",
          "ename": "TypeError",
          "evalue": "ignored",
          "traceback": [
            "\u001b[0;31m---------------------------------------------------------------------------\u001b[0m",
            "\u001b[0;31mTypeError\u001b[0m                                 Traceback (most recent call last)",
            "\u001b[0;32m<ipython-input-193-3c8e12ad4afd>\u001b[0m in \u001b[0;36m<module>\u001b[0;34m\u001b[0m\n\u001b[0;32m----> 1\u001b[0;31m \u001b[0mt1\u001b[0m\u001b[0;34m[\u001b[0m\u001b[0;36m0\u001b[0m\u001b[0;34m]\u001b[0m \u001b[0;34m=\u001b[0m \u001b[0;36m100\u001b[0m\u001b[0;34m\u001b[0m\u001b[0;34m\u001b[0m\u001b[0m\n\u001b[0m",
            "\u001b[0;31mTypeError\u001b[0m: 'tuple' object does not support item assignment"
          ]
        }
      ]
    },
    {
      "cell_type": "markdown",
      "source": [
        "## Paper Coding"
      ],
      "metadata": {
        "id": "2s49VunxTOZV"
      }
    },
    {
      "cell_type": "markdown",
      "source": [
        "### Q1. Create prime_list that has prime numbers between 2~10 as its elements. Then, use list indexing to the first element of the list and print as shown below.\n",
        "\n",
        "![image.png](data:image/png;base64,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)"
      ],
      "metadata": {
        "id": "22fzk45STQys"
      }
    },
    {
      "cell_type": "markdown",
      "source": [
        "### Q2. Create prime_list that has prime numbers between 1~10 as its elements. Then, use the append method to add 11. Print the results before and after addition as shown below.\n",
        "\n",
        "![image.png](data:image/png;base64,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)\n"
      ],
      "metadata": {
        "id": "e6Ig4LwrTrtB"
      }
    },
    {
      "cell_type": "markdown",
      "source": [
        "### Q3. For the list1 and list2, use the nested for loop to multiply each element of list1 and list2 and then print the result with the element multiplication result. \n",
        "\n",
        "![image.png](data:image/png;base64,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)\n",
        "\n",
        "\n",
        "![image.png](data:image/png;base64,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)\n",
        "\n",
        "\n",
        "output example:\n",
        "\n",
        "![image.png](data:image/png;base64,iVBORw0KGgoAAAANSUhEUgAABWwAAAElCAYAAABwEaufAAAAAXNSR0IArs4c6QAAAARnQU1BAACxjwv8YQUAAAAgY0hSTQAAeiYAAICEAAD6AAAAgOgAAHUwAADqYAAAOpgAABdwnLpRPAAAAAlwSFlzAAAXEQAAFxEByibzPwAAcqZJREFUeF7t3XWYldXexnHOOe+xk1BAVEBQQKSlO4ehke5uQZBGQewAFBADkJTu7u4YeugamO6uHfe7J5ABmePee/a4Z8bvc5118Y48a63f+qy53j/ua7GebNl4EEAAAQQQQAABBBBAAAEEEEAAAQQQQAABBDKOgHgQQAABBBBAAAEEEEAAAQQQQAABBBD4HwIZJ8miEgT+AQL8fyMEEEAAAQQQQAABBBBAAAEEEEAAAQQQQAAB5wr8EUU7twxmRwABBBBAAAEEEEAAAQQQQAABBBBAAAEEECCw5XcAAQQQQAABBBBAAAEEEEAAAQQQQAABBBDIIAIEthlkIygDAQQQQAABBBBAAAEEEEAAAQQQQAABBBAgsOV3AAEEEEAAAQQQQAABBBBAAAEEEEAAAQQQyCACDglsYy+tVs+uHdSqdWu1TmitOmvgiB3ycuYizfHyd1umsS1bJdVkaa26fKgpOzycWdX9uQ13tPLH0Xqv1T2zlvp62SEFmTJGeVSBAAIIIIAAAggggAACCCCAAAIIIIAAAn+/QNoDW7NBl5Y018ezV2nP4SM6cuSI9m/6RX3LFVSNlt/KLfLvX1TCjPFBZ7VsfCMNnb41saaEtv33sWpWvJJ6TzigECcGo0afA/q6a3GVeW+gFu5Jqu3Irllavvuc7oQ5x4tZEUAAAQQQQAABBBBAAAEEEEAAAQQQQMD5AmkPbC1rMBpi/rSSW0sGqUz2dzRkb6hdqzRH++rc8Z3afdvOBNNsVHzsw3WFaMfQ2ipYtI3mXDfaVVeaO5n9tWVsW5V9p6fW3v3zaGZzmmdgAAQQQAABBBBAAAEEEEAAAQQQQAABBBDIpAIOCWz/vHajLi3sp6dzFFWvrYF20Rg91mtE81f13mo/u/o/ulOA1o2orWz56mn08QgHjmv9UHEeazSgfgXV/fis9Z14EwEEEEAAAQQQQAABBBBAAAEEEEAAAQT+EQKOC2zNJsVGBCsoKEiep1do2DuF9UbN4dobZL2jKfKsFrTpqE4dF+vwpV2aOa6svtl6TTt//VAufT7RTg+T0nIA1ey7UYOqPK2cVQdou7+VJ2wNITq1/CM1a9YsldZHU9dclLXxr8+Giar5Rll1XLBeKyb1SRyzaaNO+nLRKYVbT8WbCCCAAAIIIIAAAggggAACCCCAAAIIIJAFBRwX2MZ5a+vXrdTIxUV1q1VQmSbjtMPNhusQLHcBmEMCdcv9vFZ90UBVS76oJ5/4Pz2X+3XV6jpEP2y4JJ+73oq2dxMMHlo4pIqefDyfenx13PpxLHf0hvtd15kzZ1JpF3XHP1LWxb/Rcp8/VMX+9axertZTn245kTjmwUV95Vq4iDp/d1B+1g1krwL9EEAAAQQQQAABBBBAAAEEEEAAAQQQQCADCzgusLWcfTXGxyomJkYRfic1q2dNVS43UWsDYm1aftjttZr786fq/F5BvVvueVWoXk+Dxv+sNbtPKMqmkVK8bAjQgc9aqkC2x/X24J9007aS7J31Ef0ide63PsqdLZ/qDd2r+99ji9G+/pWUvUpfLbkd78D5GAoBBBBAAAEEEEAAAQQQQAABBBBAAAEEMpOAAwPbB5dtuLZYHXPnUOmhB6z+p/6xnrv1UYVsqtLjK323cLHmTHhHny07oZkjO6l2k0YaseURX+n6S+0onZ3fVW/83/8pf5dp2m/rlbrGMF3YNFl9+vRJpY3VvG3XrQyTDbqxcKjefrq0OmzyfKByz/VtVaJQXX2x1ZF39v4lDi8ggAACCCCAAAIIIIAAAggggAACCCCAQAYSSL/A1ned+rzxrIrVXiEfKxdsCPPQ2f0nlHiRQtAefdSpjNpuCk7s7XPnsk7ctOGKhcReMTq3bIRef+4JFaw+Q8dDrCwk5WumWPle2qeVK1em0rboxJVAxVk5dOih79W4+jtqv+3BtVxf0FwFizfSlINJ6+VBAAEEEEAAAQQQQAABBBBAAAEEEEAAgX+eQJoDW3NMsG5dCJHpAbswHfuslfL+q6ja/Xbuob+zEtkYq7DQQAVE2XdFgNkYLvflo1Th+WdVpOkwncwgX/Qy+e/Sp01eV0nXBbp8jyL+kD4tn0dPuEzUTv8HJa3U4jUEEEAAAQQQQAABBBBAAAEEEEAAAQQQyAICaQ9sg7ZraHYXdR7ysb788svENv791qpQoI6Gfr1Zd5yEZAg8oo/LZlO2bP+nqr2/1KRJ3+ir5Pq+nLZEu6+HOakyKeTwEn1Qo47qdR+f6DWkaXXLfb9dNHvXXatP6jqteCZGAAEEEEAAAQQQQAABBBBAAAEEEEAAgXQTSHNgKwXr4tJZ+uGbr/4IbL+a9IuWn3deIJqgZYr119mts/TrLz9rakJY+1VSmJzYnBzYJtbncUJrvksy+2byWrnZcz1vuv1aMDACCCCAAAIIIIAAAggggAACCCCAAAIIOEPAAYGtM8pmTgQQQAABBBBAAAEEEEAAAQQQQAABBBBAIOsJENhmvT1lRQgggAACCCCAAAIIIIAAAggggAACCCCQSQUIbDPpxlE2AggggAACCCCAAAIIIIAAAggggAACCGQ9AQLbrLenrAgBBBBAAAEEEEAAAQQQQAABBBBAAAEEMqkAgW0m3TjKRgABBBBAAAEEEEAAAQQQQAABBBBAAIGsJ0Bgm/X2lBUhgAACCCCAAAIIIIAAAggggAACCCCAQCYVILDNpBtH2QgggAACCCCAAAIIIIAAAggggAACCCCQ9QQcEtjGuC9X145t1KJFi6TWvL36Dt2iuyYngpljdHPXdDVullyTpa7mTXtrwrRTCndiWYlTm7y06dexato8obZmajximjbdNTi7KuZHAAEEEEAAAQQQQAABBBBAAAEEEEAAAScLpD2wNRt0adl7mjhvnQ4cP6ETJ07o8LbZGlC+oKo3+1onIpyzQmP4Te2f1USfLz+WWFNC2/37x2r+RkG998EKeRidU5cp4LR+6FlOxRr30IL9CXVt1LftqihnvRFafDXWOUUxKwIIIIAAAggggAACCCCAAAIIIIAAAghkCIG0B7aWZZiM8X9azO2lg1Um+zt6f0+IXQs1R/no1OEt2n4zzK7+MptkMj18ajVMu0fUUf7CLfTz1T/XbN9EtvQyyWPJCFXJUUp99qRYl/cqdXinuJqO3ShfJwXJtqyCdxFAAAEEEEAAAQQQQAABBBBAAAEEEEAgfQQcEtj+uTSjLi7oo6eyF1XvbYF2VW70WK+RzfOp1Ro/u/o/ulOgVg6tqmyFmuhH9zgHjmvtUCHa9mVzvVmisTZ4pewToA2tS6tQvTHa7m+2djDeQwABBBBAAAEEEEAAAQQQQAABBBBAAIEsJuC4wNZsVHRYgPz8/HT7xFINeectvVl3lPYFWy9mijyr+a07qmP7BTpwYbt+HVtWX2+6rK0zhqhe7wnaabnHwNY402yMU0Swn6UuH51f9a2avJlfVfv9pmvW5rXGEJ1aPk5NmzZNpfXW1DUXZd3ND/5aOa6OshVtpKW3U7p4aYklsP13xcFaeYcjttb/xvAmAggggAACCCCAAAIIIIAAAggggAACWUvAcYFtnLe2ftNajVxcVLdaRZVpOk7b3UKt1zKbZQ4J0p2rl7X+24aq+s6zeuy//9EzL+VTrR4fasaWa/Lz9Fa09SMmvhnnd0JzhrnIxVJX9QpVVK/vzzpzy4brECx39EYE3Ja7u3sq7Zq8AqNkXcwarcsLBihv9vxqtez+yWHjpWVqUTKHsr3TT8uvRtq4Ql5HAAEEEEAAAQQQQAABBBBAAAEEEEAAgawi4LjA1nL21WQ0yGAwKCbwjOb2rqWKpT/WSj/bPqQVcn2ZZk7/RJ1avalKFV9Q5VouGjRuupZvP2LlKdaHtsYSBN+rK/TaOo2vXl412vym4xG2ntV10JaHndGSkeVVqXIjDZ80SZMmTdPUoYPUpvCrerzBaK31NDloIoZBAAEEEEAAAQQQQAABBBBAAAEEEEAAgcwm4MDA9sGlG64vUec82VVq8H5Z+9mw2Lu7NLZ8NlXv/Z2+X7REc8a/o89WuGnOuK6q27SRPtx0J82+gRuHq9wzb6njzBuy6pytMUznN3yr7t27p9JG6jfL6V+bzsWafXR87df6fOJETZw4TZsuuGlpx8p6p+FH2h3opCA5zbIMgAACCCCAAAIIIIAAAggggAACCCCAAAJpFUi3wNbou1a9Cz6rYrVXytfKKo3hd3T+0KmkgDdor8Z3eVftNyddguvneVVut224YiGVOYOPjFe1/8ujJiNPKsaaukyx8rtyUGvXrk2lbdepa0HWhb+pzWc+rK4Vq6v5hG0K4oCtNbvCOwgggAACCCCAAAIIIIAAAggggAACCGRJgTQHtuaYQF0/E/TQHa4hOjyhhXL/u5g6zjsvuzJIU7wiw0MUHGPVOdiHNsek2CBfXb/w0LnX6Mua376knnqhoT7f523zB8wc8Rtgin/4tlvL3b8TquqNGr3029lwR0zBGAgggAACCCCAAAIIIIAAAggggAACCCCQSQXSHtgGb9cHL9ZTuwGjLf+8P+Gf+E/U6H4t9e4b9TVy8jZ5OQXGIP8jc9TxP3XU65OkmiZOnKD3W9TXu+XbaPLys3JWNGoIvKEds8drdLLVmO6uqlu9rX7afDttp3Sd4sykCCCAAAIIIIAAAggggAACCCCAAAIIIOBIgTQHtlKILq+Yqx8nfadvv/02sX33w2ytuhjhyDptHssUfUfHZk3X5OSaEuqa9MtKHfSxeSjHdogP0tmd8/XdPaspq3T0OvfWOhaZ0RBAAAEEEEAAAQQQQAABBBBAAAEEEMicAg4IbDPnwqkaAQQQQAABBBBAAAEEEEAAAQQQQAABBBDIaAIEthltR6gHAQQQQAABBBBAAAEEEEAAAQQQQAABBP6xAgS2/9itZ+EIIIAAAggggAACCCCAAAIIIIAAAgggkNEECGwz2o5QDwIIIIAAAggggAACCCCAAAIIIIAAAgj8YwUIbP+xW8/CEUAAAQQQQAABBBBAAAEEEEAAAQQQQCCjCRDYZrQdoR4EEEAAAQQQQAABBBBAAAEEEEAAAQQQ+McKENj+Y7eehSOAAAIIIIAAAggggAACCCCAAAIIIIBARhNwSGAbfX6JOndorebNW6hFixZq3qyder2/UbcNGWe55qDjmjO8gVx7fKI5lyKdWJhZ8bERCvW/qEXfj1LTpo3V46vfdSE0ZUmWd7x2a3LX9vdNW7ZX7xn7FJyBTJ2IyNQIIIAAAggggAACCCCAAAIIIIAAAghkSYG0B7Zmgy4vb60vf9+so6fP6MyZMzqxe74GVyqoKo0/17GIDOBm9JHbxlFq9mZePZOrsvruD3FeUcEXtWRiI1Wu201jPpulca2KqEjlAdrml7KkCB39ub2GfrtQ+04mmbrtX6zhrmVUp9Gvco9xXvnMjAACCCCAAAIIIIAAAggggAACCCCAAALpJ5D2wNZSm9ls+lOFHsuHqEz24hq4O9iu6s2RXjqxf702X3/g6KkdY8Xo7LZvNHh8Hy3+dqwq5quuQYfTOqYdZSR3MQd46PKxPTobGi+zfLW6d2VVqP2BdvqnHNMsk/HPR2m9141RxReLqN+2APsLoCcCCCCAAAIIIIAAAggggAACCCCAAAIIZFgBhwS2f16dUe7zeunJ7MXUZ1uQXYs33lmvkc1fUas1DySZNo8Vc2WNPq1XSyNPBMhn0Qcqnce5ge2DC/DS0u4VVb7O0IcC20ct06DbKz/Uiy8UUMX5l212oAMCCCCAAAIIIIAAAggggAACCCCAAAIIZHwBxwW2lqsRooK95eXlpWtHftf7xYvobZdxOhBiPYIp4ozmvdde7Vr/pj1nturnsWX05YYL2jh1oGr3GK8dlktxzdYPJ4Vd0syRxVWn1wJFWfrdmTVIpWwNbA0hcls2Vk2aNEml9dIPqy/KvpsfPK0PbI0emtP3Jf03b1lNPRttiwLvIoAAAggggAACCCCAAAIIIIAAAggggEAmEXBcYBvnra3ftFbjhg1Vr0YllW06TtvcwqxnMFui2NBged66oa3fN1bV4k/pP//5t57KkVd1eo/WrJ23FODlLeujyhidsNwDm6tkdS26mVCGWTdn2hHYmo2KCrqrq1evptJuyTc4Wn++FMKapVsb2Mbp7Pdd9fS//qUKrVbIy5qheQcBBBBAAAEEEEAAAQQQQAABBBBAAAEEMp2A4wLbxEzUbPmfWfEh57Wwby2Vf2eMlvrY9oWsoMsL9eP3E9SxTVFVr/KiqtVtpIGjv9fizftlffwbL68DU9S8Uj51Xer7x6YE/z5cZV+preEXMso+WRPYGnRr7WBVy5ZNj9fur2NcX5tRNo86EEAAAQQQQAABBBBAAAEEEEAAAQQQcLiAYwPbFOUZby5Tl7zZVXLQPquD1ti7OzW2/L9Us98UTVuyVL99XFyfrjyt+eN7qF7zxvpw0x3rAMzhOvh1NWX715Oq2bqPunfrpm7duui9SkWU/cmXVcS1g4ZNXSZ3a749ZgzT+fVfW/onjPGoNlyzN19VpHWVPfTWXwe2IUcnq8LL2ZSt6kDNuRln1yx0QgABBBBAAAEEEEAAAQQQQAABBBBAAIHMIZB+ga3vWvUq+IyK1Vmp+2dc/zeKMcJTl46dS7oPNnifPrF8kKvD5uDEToHeN3T2jrVnbC3XGPhf17GjR7R722Zt3pzQNmjO+01UMHtxNZm8QrtPXlZgrBWbZI5VwPWjyWPcGyvln3t09maw4q0Y6s+v/O/ANvzILJXP+4Sy5RqmZbesKdauIuiEAAIIIIAAAggggAACCCCAAAIIIIAAAhlEIM2BrTnaX1dOBMjwwIKCdWBsU73873fUZaG7bR8KuzeOyaDoqHCFxT44clrc/OcPU5m8tTTsjH03zqZl7kf3jdam/lVV2WWsTjxQkkGBJ39Su1efVs63G2jVVcfPzIgIIIAAAggggAACCCCAAAIIIIAAAgggkPEE0h7YBm/XBy/UUZu+IzR+/PjENqJPc5Ur5KKxP+yUd4ZZs1HXp3VXgSdKqfv+EKdWFe11XKunJVgNUZPCz+qZnCXUbljCz0t06FrC5QoRWtXrRVk2R/kaDtLEzydqQrLt+M+m6Lf9HnZ+5Mypy2ZyBBBAAAEEEEAAAQQQQAABBBBAAAEEEPgLgTQHtlKorq37Xb9O+0Hff/99YvthxnytvxKVwfDNirh2XJtWbdfxAPsuMHDUgmJ8z2rr/ASrqfpp9lzNnTNLM6Ym/LxBbrcT3EzydluvFYt+15xfftTUH5JcE9v037T8uBeBraM2g3EQQAABBBBAAAEEEEAAAQQQQAABBBDIQAIOCGwz0GooBQEEEEAAAQQQQAABBBBAAAEEEEAAAQQQyMQCBLaZePMoHQEEEEAAAQQQQAABBBBAAAEEEEAAAQSylgCBbdbaT1aDAAIIIIAAAggggAACCCCAAAIIIIAAAplYgMA2E28epSOAAAIIIIAAAggggAACCCCAAAIIIIBA1hIgsM1a+8lqEEAAAQQQQAABBBBAAAEEEEAAAQQQQCATCxDYZuLNo3QEEEAAAQQQQAABBBBAAAEEEEAAAQQQyFoCBLZZaz9ZDQIIIIAAAggggAACCCCAAAIIIIAAAghkYgGHBLbRZxeofduWatK0qZomtMat1a3/Gt2IMzuRxqjgMys0qn5duTZOriuxvk4a/9MB+TutMpPiokMV6HVOCyYNl6uri7p8Nl/nQx8qKPi4ZnRuYfn7xkmmia2leg/9XRdjnFY8EyOAAAIIIIAAAggggAACCCCAAAIIIIBAOgqkPbA1G3R5RTt9u2yH3C64y93dXWcOLNKwKgVVyWWijoSnY/X/c+g4XV85UlWyF9NXm5PqSmqXdds7TPFOKssc7K7FE1xVqV53ffTlHI1vU1RFKw/QNr8HCzLdXKJWL+VWn++36cwftV/U1Rt+ijI5qXimRQABBBBAAAEEEEAAAQQQQAABBBBAAIF0FUh7YGsp71HnaO+sGKqy2d/WgF3Bdi3AFOmpY3vXaMO1ELv6S+Fymz1ar5QYpUMZ6ESqOeCOrpzcrwuRCamrr1b1rqwKtYdq50NHfo2nZumtgh3144lIO9dPNwQQQAABBBBAAAEEEEAAAQQQQAABBBDIbAIOCWz/vGiDzs/poScsp1v7bQ+yy8R4Z4NGNX9FbdYG2NVfpiDt+bq9cr01THvC7Bsi/Xt5aWn3iipf58+BbciOj/V67uaacti+wDv9a2cGBBBAAAEEEEAAAQQQQAABBBBAAAEEEHC0gOMCW8vVCBGW06Met2/r0v55GvB2MZVsPF6HHr6b9X+swBRxRnNbtFXrFr9ou9tmzRhTRp+vPaM1k/uqetePtP2WQVbfBmAM0v4fWurlvG+raoNGatSokRo07qaxi88pxpb7EAwhcls6JrH/o1sPfb/KXRF27YxnqoGt39ZRKlWokMpUb5A4r2vDpmr32Wb52jeRXdXRCQEEEEAAAQQQQAABBBBAAAEEEEAAAQT+XgHHBbZx3tr2bRs1cXVVg5qVVa7ZWG09acPRVrPlYoXQEPncvaOd05upWrHHlC3bv/TEi7lVt99HmrfvroK8vRVttY9ZhthwBQb46M7tW7p164aOzB2lanmKqv6HmxVgbWhrNio6xMfSP2GMR7W7CgiNtT5IfqD+1ANbc3yUQoL95HXnduK8lw7PVd/X31ThmlN0hlsSrP4t4EUEEEAAAQQQQAABBBBAAAEEEEAAAQQyk4DjAtsUqzaFX9Si/rVUrthILfK2PmJNGCLAfa6mTh6vTm2Lq1b17KpRv6kGjZqshRv2KORRl+XapB2iNcNr6ZkiLTXzmtGmnunzcuqB7aPmu71mhF7L8aZ6bQ1Mn3IYFQEEEEAAAQQQQAABBBBAAAEEEEAAAQScKpAugW3Cioy3lqvrKy+qRP+9svZWhNg7OzTm3f+o7qBp+mn5cs0e97YmrjqrRZ/2kUvLJhq60SONWGbd/rGf3n6qkvpv97FuLGOozq39Up06dUqlDdWvm67IvkOvtgW2UefmqdPjr6nM5KPKCHGzdYC8hQACCCCAAAIIIIAAAggggAACCCCAAALWCqRbYGvwWaOeBZ5Vsbor5WtlNcZIb109dUlRCe8H79PEnlXUaUvSR7eC/Tzk7hlu5UipvRapQx/V17Mv1dL441bGyOY4Bd48qR07dqTSDsr9doisvWHhwcpsC2yDtn2kkk++orrzLyvNh43TKEl3BBBAAAEEEEAAAQQQQAABBBBAAAEEEHC8QJoDW3OUny4d9XsosAzU3lGN9NK/S6jb4ov2hYuWu2NjY6IUGWfPWVKDwnxvar9n3ANi4WcXqEnJ51S09/e6EuN4TNtHjNam/lVV2WWsTqT8mlqoh/bdCJYh5YBhZzXuvfx6qlpH7fC0fSZ6IIAAAggggAACCCCAAAIIIIAAAggggEDGF0h7YBu8Q0Ofr6X3en6gMWPGJLahPZqo3FtNNGHGHqtP1zqUyhwrj/1TVaFoYw1KrmnM6P5q61pRjUfN1DYf555PjfY8quVTEqwGyPWNZ/VMjuJqPTjh59914KrlcgXvzXqvUlO17Tss2XSEBrasoPJdPtWPZ0IcSsVgCCCAAAIIIIAAAggggAACCCCAAAIIIJBxBNIc2ErhurF5meb88pNmzJiR2H6atVibbzj3CKs51lcXFszWT8k1zZjxs1bsPK4Hz9w6ZyNi/C5o56IEq581e8EiLfp9nmb+lPDzZp2+k/CRtjj5bFyhuT8neSa03xavkZ9zc2bnYDErAggggAACCCCAAAIIIIAAAggggAAC/yABBwS2/yAtlooAAggggAACCCCAAAIIIIAAAggggAACCKSjAIFtOuIyNAIIIIAAAggggAACCCCAAAIIIIAAAgggYIsAga0tWryLAAIIIIAAAggggAACCCCAAAIIIIAAAgikowCBbTriMjQCCCCAAAIIIIAAAggggAACCCCAAAIIIGCLAIGtLVq8iwACCCCAAAIIIIAAAggggAACCCCAAAIIpKMAgW064jI0AggggAACCCCAAAIIIIAAAggggAACCCBgiwCBrS1avIsAAggggAACCCCAAAIIIIAAAggggAACCKSjgAMCW7OiTs9Rm1bN1ahxEzVp0kSNXVuqU68VuhJtTMfSrRza5Ku98z5S3YZJtTVp7KKBX8zU5Sgr+zv8NZNiIoLk63Fac78eqgYN6qjDhDk6F/LniUJOzFfz5k3VOKHuRs3VrvMiuUdlAFOHmzAgAggggAACCCCAAAIIIIAAAggggAACCCQIpD2wNRt0eWV7TVm1R2evXNXVq1flfnSZRlQroPJ1x+twmPOgTaGX9fuQ8nq7bnvNO5hU29UL27X74EGd93NOXeagC1o03kUV6nbXx9/M16ft39bblQdq2wP1mBV66FuVe7eEWny3SRcT6j61VmNrF1SpaiO1J9A5tTMrAggggAACCCCAAAIIIIAAAggggAACCKSvQNoD21Tqu7NymMpmf1v9dgbbtQJTxB0d3rlca67Y11+K1sUFQ1U2TzPNumKwq4b06GQOvKtrpw7pcnTC6L5a1auyKtQeqp3+KWe7owVNX9eLDb7Q6RQngYP2fKUGLxZW142+6VEaYyKAAAIIIIAAAggggAACCCCAAAIIIICAkwXSKbCN17lZ3fSYJbAdsMO+wNV4d4NGt3hFbdfZd5zUFH5O07uV0ltdtyjSycipT++ppd0rqnydPwe28xu/lhjYnnogsP3aEtgWUpcNBLYZdkspDAEEEEAAAQQQQAABBBBAAAEEEEAAgTQIOC6wNccrzPemrl+/rnO7Z6tvseIq2+xTHbHhSgRT+GnNad5aLZtO1+ZjGzR9VGl9uuqkVnzTU1U6j9O2m/EyWbnY6KvL1ev1V1Xm8wVa8/MQubq6qmG9Buo+Yr4uRZutHMXymiFEJ5eOTuz/6NZdU1a6K8L6EVO8mVpga1bI4SmqWa+m+v64Q5ctptfPbtEX7cupZoOx2htg12R0QgABBBBAAAEEEEAAAQQQQAABBBBAAIEMLuC4wDbOW9u+baMmlmCzfs0qKtfcErCetCGtNVtC1NAw+fv6aN/PzVWt6H8SLtjVY8+/pLoDPtGiQ94K8fG2XHRgzWNS0NHpqp/tMT39Sj31Xn9Gd+/elceJufqgah5VbP2rTlob2potHwkL90/s/+jmo+DwOKuD5AerTy2wTXgrVLvnDlH9EtXlkhAW16+uss2Ha83REGsAeAcBBBBAAAEEEEAAAQQQQAABBBBAAAEEMqGA4wLblIuPuqKlA+uobJFhmu+Z4t/0WwHkd/ZXfff1R+rYvpTq1c6h2g1baODwbzRn9Q4FWX0w1qTAQ5NU6d85VNh1iXxSzHt33gAVL1xZQ/bZd9WCFUuw4ZXUAttQXbKcKs5dsYm+2eOZNF7cLa0Z7qJyBQdq5m37zvPaUBivIoAAAggggAACCCCAAAIIIIAAAggggIATBNInsLUsxHR7hbq98oJK9N2jECsXFntnu8a8+1+5fPCzZq1aodlj39Ynqy9o+VcD1KhVMw3d4GHlSGZFnJujVi+8ptIzTjzQJ/rcN2pe8g21/fq84q0ZzRiqs2s+U/v27VNpg/Xzhit23pObSmDruVoueZ5TqYl7HzxR7LNJAwo+pzc7b1FGiJut4eMdBBBAAAEEEEAAAQQQQAABBBBAAAEEELBeIN0CW6PPGvXM/4yK1lspPyvrMUb56sa5a4pJeD94vz7rXV2dtwQl9g4N8NRlH+tPlhp892qsS26V+PH8A7OH7P1YVUoUU9f5N627xsAcp2CPM9q7d28q7Zgu3w2Vwco1PvhaKoHthVl685UXVXXSMcWl7BDhpq/qvKBCVRbqjl3z0QkBBBBAAAEEEEAAAQQQQAABBBBAAAEEMrJAmgNbsyVkvXDAR7EPrNJfuz50Ua7/lFLPZZdk9U0GKccwGxUXF6PoeKN9frFe2jChjN56dahW/JHzXtO8Nm/p8Tc76+cbibGwk59obepfVZVdxupEyq+phbnp0+rPKludwdqR4j4Hz419VeFfOdT8l3N2BsROXi7TI4AAAggggAACCCCAAAIIIIAAAggggMD/FEh7YBuyQ0Ofr6FmXQdp+PDhiW1Ql0YqW7SFPp95QP5O3ABTwHnN79lclWt2TaxrQBsXVSneWlPXXJZtN+s6dhFRdw9rybcJVn3UoOCzeibH22rZP+Hnedp7OelDbYGnpmlUi/zKV7OjPkhwHdJDDUsXUscvftUV6w8aO7ZwRkMAAQQQQAABBBBAAAEEEEAAAQQQQACBdBVIc2ArRej29tX6/bdZmjlzZmKbNW+Fdtx+4B/zp+si/ufgZn+dnv9bUl1z1uvIJfsuL3DkAmL9L2rP8gSr2Zq/ZIVWLF+sebMTft6us3dSRMnhl7V+6VzNSnCdNUcrt1x76CSzI6tiLAQQQAABBBBAAAEEEEAAAQQQQAABBBBwtoADAltnL4H5EUAAAQQQQAABBBBAAAEEEEAAAQQQQACBrCFAYJs19pFVIIAAAggggAACCCCAAAIIIIAAAggggEAWECCwzQKbyBIQQAABBBBAAAEEEEAAAQQQQAABBBBAIGsIENhmjX1kFQgggAACCCCAAAIIIIAAAggggAACCCCQBQQIbLPAJrIEBBBAAAEEEEAAAQQQQAABBBBAAAEEEMgaAgS2WWMfWQUCCCCAAAIIIIAAAggggAACCCCAAAIIZAEBAtsssIksAQEEEEAAAQQQQAABBBBAAAEEEEAAAQSyhoBDAluT3z593aSOatV1UUNXV7kmtmbqPXyJrsQ7B8psjJLHnhnqW6tBcj2ucmneQ+OWnlOUk2pKkjAqOtxfXjdPatYXg1WnTg21GTdLZ0L+7BRzZZ0+btY00bRh05bqPM9NkQbneDIrAggggAACCCCAAAIIIIAAAggggAACCKS/gEMC21j3uWqS81UNnXtU127c0I3EdlN3vEIUa07/RTxqhvigc1r1ZTt9tvxUcj03dGbbJLUvXkpth2yWn5NCW3PQeS0a76JK9Xvpk0m/6/MOxfV2lYHa5vfgKmJuzFaXimXVc/I2XbZ4Xjk4R72KlFTlD39XkNE5psyKAAIIIIAAAggggAACCCCAAAIIIIAAAukr4JDANurQdBUs2F1zLsY5rFpTuIcObF2k5ZeCHTamFKF9oxvotcLNNMNJR3/NgZ66cfaYriVS+WlVr0qqUHuodvqnXGaotvYvrDL9ftWV2Hv/PVTbhuVUtpxva/yxCAeaMBQCCCCAAAIIIIAAAggggAACCCCAAAIIZBQBhwS2Pus+VN6XW+rHE8EyGo0ymuxfnjm5s/HuRo1p8Yrarw9KHsystB/W9dWKodWU7dX6GnfC+tDTbDYlrSuVZjLbW5mnlnavqPJ1HgpsI/dp3Bv51Obr/QpNXL1J3m5L1aTNuypT+nVV+P6E5WIFHgQQQAABBBBAAAEEEEAAAQQQQAABBBDIagIOCWw9NwxXybeKqFz1emrQoIHq1XNVm4kb5RNqW5BpCj+l2U3fUzPX77XhyHpNG1VaE1cc05IvuqhChzHaejPeEl3a/8R5LFP3Mo8rT60PdTDYypEMwTq5eGTiuh7dumrSiguWs7v2PKkEtpcXquIbOdXjt3NKuLkh5tI6/dx6jhYcXKWR1XKpROOV8rZnOvoggAACCCCAAAIIIIAAAggggAACCCCAQIYWcEhgazbGKjIiRIF+PvL29taNo3PVK38hFarzg85HWrn+hFOqYeEKDPDXodmtVL3ov2QpTv99LpfqD/5cy4/6KczXR9FWDven16Iu68fOJfTfpwpryIwLsvryBsvp2tiIIPn4+KTS/BUaGWdnkJxKYHthjooXzKWhK24ownuPPhraTMtPWiqOOaPJzbOrWPUl8rDXgX4IIIAAAggggAACCCCAAAIIIIAAAgggkGEFHBLY/nl1Zl1bNkT5chbTgF1J/6jf2sfbbbq+/HysOnQoq4b1cqpe41YaMPQLzVy+RQFWHor901zRHtowtKZezvacKkxYIl/bDv5aW7od76UW2M7V24Vyqu03czX9s881YseNpCsQwk9qSqsXVazqYt22Yza6IIAAAggggAACCCCAAAIIIIAAAggggEDGFkinwNaSLR7+SS3/m1+VZ5yyWiDWY5tGv/u4Gg+fpblrV2rW6GKasOaSVk8aoiatm2vIentiymDtn9pML2V7WiU++F3nbL27wBiqM6s+UevWrVNpAzVj/WVZe5D4QYxUAlvv9WpXIKey53XVuCU3/+hi9Nmlca65VXLAVoVbrcqLCCCAAAIIIIAAAggggAACCCCAAAIIIJBZBNItsPVa+YEKP5lfLVbestrCGOWvW+43FJvQI/iAvuhXS123Jn10LDzIW9d8bY1Fw3Twp5568bEnVLLpYl2OsbqU+y+a4xVy97wOHjyYSjupq55hMtgxtJRKYGu+rF/K5NaT2bpqY+D9gSNO/6JGL70ml+U37JqNTggggAACCCCAAAIIIIAAAggggAACCCCQsQXSHNiagq5r66XApH+yf+/x2a+B9fPoBZeBOhJgJ4Dl7liDIV6xRvvuQTDHB+n4rz1V9MlnVKH7V7qWYa5BSOkRrU39qqqyy1ideGiZN5Y1VeHHiqr30lvJHfy0ulc1PV26rXb62GlKNwQQQAABBBBAAAEEEEAAAQQQQAABBBDI0AJpDmyNnqvUtIyLWvcYqA8++MDSBqhb43KqNWiqfr9mz5FWx3gZAg/r43LZLB8ue0IVOozUqOFDk+uz1Dj+Z613D3bMRHaMEnXnkBZ9mWDVQ/UKPKtnchRVs94JP/+m3ZfCkkaM89DGCR315qvV1MniOqirq0oX76If9nvaMSNdEEAAAQQQQAABBBBAAAEEEEAAAQQQQCAzCKQ5sJWi5bt9vZbOn6e5c+da2jwt27BLybGj0wzM8aG6eWKzNm5Yp+WL5mvevITaktuybTp519brFRy3lNiAyzqwOqGWBVqyaq3WrlmhRfMTft6tC57RKSaK1KUtq7TAUve831dr562Uf+e4ehgJAQQQQAABBBBAAAEEEEAAAQQQQAABBDKGgAMC24yxEKpAAAEEEEAAAQQQQAABBBBAAAEEEEAAAQQyuwCBbWbfQepHAAEEEEAAAQQQQAABBBBAAAEEEEAAgSwjQGCbZbaShSCAAAIIIIAAAggggAACCCCAAAIIIIBAZhcgsM3sO0j9CCCAAAIIIIAAAggggAACCCCAAAIIIJBlBAhss8xWshAEEEAAAQQQQAABBBBAAAEEEEAAAQQQyOwCBLaZfQepHwEEEEAAAQQQQAABBBBAAAEEEEAAAQSyjACBbZbZShaCAAIIIIAAAggggAACCCCAAAIIIIAAApldwCGBrcl3r75sVFM167iooaurXBNbM/UevkRX4p1DZDZF6NK6CapW9149rnKp00bvf7xDXtEm5xSVOKtRkSE+8rhyVL9+9r5q16qq98b8qtPBD5UUdFiTW9RVrdoNUpg2Vff358s92onlMzUCCCCAAAIIIIAAAggggAACCCCAAAIIpJuAQwLbWPe5apzrdQ1f6KZbd+7oTmK7K2+/MMWZ0632/zmwMfy2jizqpNn7bifXc0cXdk5Vp7deUb3uv+mqs4LkwPP6/eMGqtSgtz77fom+7lRCxasM1Da/B5djurFELXO/qsG/HtKNP0zvyMsnVLFOMnXOTjIrAggggAACCCCAAAIIIIAAAggggAAC/xwBhwS2UYemq2DB7prjHuswOVP4Le3ZOE+L3YMcNqYUqYMfNdRrhZpo6sU4B45r/VDmIC/dumAJto0Jffy0smclla8zVDv9HxzD6DZTbxborB9PRFg/OG8igAACCCCAAAIIIIAAAggggAACCCCAQKYWcEhg6712qPK81ELTjgUqPj5e8QZ7rxwwyxRvUEJvo+dGjWn5ijpsSLorwGQyJv73tD0+WtDvXWV7q6VmWn1Xg6UmoyFpXak0o8neI6+eWtq94iMD26BtY/Rarkb6Zo+P4tJkmjYxeiOAAAIIIIAAAggggAACCCCAAAIIIIDA3yfgkMDWa+NIlSn2tsrXrC8XFxfVr9dQrT5eJ88g2yJWU/gp/db0PTV1+U5rDqzRDyNKacKSQ1o4sZPKtx+jrTfibA5tTfER8r1xXufPn9Wun8fKpdg7ajFmuTwMViIbgnVyyajEdT26ddPkle6y7xxs6oGt/46PValEMb1bvV6yaQM1HblCtwISj+byIIAAAggggAACCCCAAAIIIIAAAggggEAWFHBIYGs2xSsmOkIhQQHy9/eXx8mF6lvwDeWvOVlnrU0yzZZTqmERCg4J1rF5bVWjSDZZitP/PZtTLkO/0ZqTgQr385Gt39uK83fTglHN1KxZM9WvWUP1e0/XyWvWprUJO25SXFSoAgICUmnBCo+Ol31nbFMPbBNNYyIUmmx699wKfVCosPJV+FzHw+ybLQv+/rIkBBBAAAEEEEAAAQQQQAABBBBAAAEEspSAQwLbR4lcXzlMr+Uspn47Q2wAM8vz6CRN/GS02nesoCYNX5JLszbqP3iiZizeIN80Hi41+e/XpLrlVKbed9oZlMbBbFhV6q+mHtg+qo/nlo9UOMcb6rLxoS+UOaQWBkEAAQQQQAABBBBAAAEEEEAAAQQQQAABZwukW2AbfvgntfxvflX+8ZTVa4z12KbR5Z9Ss9FztGD9Ks0cVVTj11zWuh+GqXnbFhqy7rbVY6X2YujOMar4VEG1mXpFVn12zBiq0ys/UatWrVJpA/TjukuWz5nZ89gW2EadnaeOj7+q0t8dUUaIm+1ZMX0QQAABBBBAAAEEEEAAAQQQQAABBBBAIHWBdAtsvVYMVqEnC6jlKutDVlN0oO5c8VB8Qr3BB/XVwHrqvi0osfrIED/d9I9K814GHRiniv/Oq6Zj3RRrzWjmeIV6XdKxY8dSaWd0wydCtlyycH9a2wLbwM2jVfzJV+Sy6JqdVzBYs2DeQQABBBBAAAEEEEAAAQQQQAABBBBAAAFnCaQ5sDUFXtWG834PBpZee9SnTm692GiIjgfauzSzTCaTDJZm+2NSlM8tue156OqAoBP6waWwns7TWlNP+ts+rMN7RGtTv6qq7DJGJ1IuM/iaNp5/6L7egKMa7JpPz9Tro4O+Di+EARFAAAEEEEAAAQQQQAABBBBAAAEEEEAgAwikObA1eq1Ws1L11KJLHw0cONDS+qhzw7Kq+8FPWnrDqjOs6cBgVMCxueqQ7V21HJBQU0Lrr/Z1a6pSg0FatOumddchpENlCUNGeRzQ/E8Tauqi2vmf1TPZi6hR94SfZ2rXRctX2ny3qV35BmrSoVdy7X3V1bWMagycpgVX0n7KOJ2WxbAIIIAAAggggAACCCCAAAIIIIAAAgggkEaBNAe2Uoz8dm3SykW/a+HChZb2u1Zt2avwNBaW1u7muABd3rxKSxJrSmqL1+2Tu7MLsyws1nIq+dD6hJoWafnajdq4YY2WLUr4ea8uesdY3jAoaN9WrV5833TFhp0KSSsK/RFAAAEEEEAAAQQQQAABBBBAAAEEEEAgQws4ILDN0OujOAQQQAABBBBAAAEEEEAAAQQQQAABBBBAINMIENhmmq2iUAQQQAABBBBAAAEEEEAAAQQQQAABBBDI6gIEtll9h1kfAggggAACCCCAAAIIIIAAAggggAACCGQaAQLbTLNVFIoAAggggAACCCCAAAIIIIAAAggggAACWV2AwDar7zDrQwABBBBAAAEEEEAAAQQQQAABBBBAAIFMI0Bgm2m2ikIRQAABBBBAAAEEEEAAAQQQQAABBBBAIKsLODiwNctkMqVo5qzuZ//6zPed/kop0fSvXrK/EnoigAACCCCAAAIIIIAAAggggAACCCCAQAYRcEhga/Ldo8/qV1G1WvXl0rChGia2pur14WJdic8YKzX47deUriVVtskQ/XA2wmlFGWO8dHDWSL1X+55TQ9VpNUTTt99StOHBsiLOLdMo10aJpi6Nm6rtL4cVHOu00pkYAQQQQAABBBBAAAEEEEAAAQQQQAABBNJZwCGBbaz7HDV6qYBGLTmru97e8k5sPvIPjFB8RjgZGntLh1e8r/dKFFWu3FXV70BIOrOmPnzYlQ2a+eVAzT54z8lbJ1cMU928lTX0p1OKMCX1jbr6o9q+W079Z+yXh8XzzsnFGlj0bZUdNFv+GSQEdxoiEyOAAAIIIIAAAggggAACCCCAAAIIIJBFBRwS2EYdmq4CBXtozkXHHf80hd3QzrWztOB8YNroTRE6umq8en0yTOumfaSKr1TXoMOhaRvT4b3vaE7jt5S3/jjtDkoYPESbehZUuUFzdCPu3mQh2vphDmXLUUSjD4c7vAIGRAABBBBAAAEEEEAAAQQQQAABBBBAAAHnCzgksPVe84Hy5GqmHw77Kjo6WjGxBtl3sNYkQ0ys4o2SyWuTxr73ijptDE5Uio+Pl+U/2/xEnF2gMdVq64uLkfL9fbBK5bE1sDXLaIhNXNejW4ziDCY715u8nLjTGl3vdWWrMkzrfSz/LfagxhTMp7Zf71dStGzS3SO/y7VdZb1b5nWVn3TMLgub8eiAAAIIIIAAAggggAACCCCAAAIIIIAAAn+rgEMCW6/NY1S+RAlVrGm5w9bFRfXqNFDz0Svl4W9bxGoKO6XZTVuqcb0vtXzPSk0ZXlIf/75Pcz5up7LtRmvrjVhLdGn9Yw44qW/6FVTdYeuVcD2sx8xBtge2hmCdXDIycV2Pbl01eaW70nIrrve+EXo3539VacgSeSYUen2hyr+RUz3nnE+sO/Lccs1oPV/Lj63V6Oq5VMJ1hbysZ+BNBBBAAAEEEEAAAQQQQAABBBBAAAEEEMgkAg4JbGU2Kj4uWhFhIQoJCZHXmSUaWOgNvVrtG50Ks1LCbDmTGxap0IhwuS3qoJpvZZOlOP376exqOHyyNp4JUaS/j6KtHE4K197vGuuFsk21KeHUquUM7M0/Altri0rqZ4iJSFzXo1uYouw+USwZLHfadi3/vJ7K29xyr21A0uouzFHxgrk0dMUNhd3ZrhFDWmj1OUv4HXNGk1tkV7HqS+RhtQMvIoAAAggggAACCCCAAAIIIIAAAggggEBmEXBMYPuI1d5Y/aHy5yyqPjuSrjSw7jHpzqGv9fH4UWrfuZKaN3pZri3aq//7EzRt4Rp5Jxw3teYxx+nW1vGqVTKv+q5JvBQ28fGZO1Rl8tbS0FMZ46td8V579F3NAvrPM0XVf8WZ+2H0hbkqXiinWn8xS99/8qXG7b2TdOVC+AlNbvWiilVdrNvWOPAOAggggAACCCCAAAIIIIAAAggggAACCGQqgXQLbMMP/6QW/82vyj+6WQ0S47FVo8s/q/c+WqglG1frlxFF9NHaq9o0Y5Te6/Cehqy7Zd1Y5nAdmVJf/2c5nVutUTu916KFWrRorgalC+r5J3KqYI0m6v3VAp0NsWI4Y4hOrxhv6Z8wxqNaP01fe8n2KxHCz2tGj8J64v+Kqt3M4/JLeXuEzwZ1zJ9LL7zkqvEr75+lNXrv1FiXPCr5/jbb57NiqbyCAAIIIIAAAggggAACCCCAAAIIIIAAAs4VSLfA1nP5IL3xVAG1WmP9P943xQTL64ZX4r2tCj6kbwY3VK/tgYlC0eEB8gi09kIEs+Ii/HXr5g25nzulU6cS2klt/Kit3spZRm3n7dcFyzzh1hy0NRsU5nsteYx7Y6X8010efpE2fQTMHHlJPw6sqMcee12dPjumP1/QcFWz3s2tp7J108ak5Sc+4admyCXXa2q06pZzf2uYHQEEEEAAAQQQQAABBBBAAAEEEEAAAQTSRSDNga0p4LJWn/FRXIryzHd2qkfN3Mre9EOdvH8jgc0LSLgGwJRwt62DHu85Q1Q6Tw0NcUtZrYMGt3KY+NCLWjSglp5/Ib86/7Al1Tt5b69praKPv6kuC64lj+ylpZ0q6enynbXfz8rJeA0BBBBAAAEEEEAAAQQQQAABBBBAAAEEMpVAmgNbo/catShVV8069VL//v0trac6upRVgw9nauUta46w/l1eRl3/sbfefO5d9T4Q8ndN+qd5Qs7MVOtclg+qPVdQDXt+qPcHJpglt8+X6Jh3TFKfeC9t/6q7ir1aWW0sf9+7fX2VKt1bvxz1dVrtTIwAAggggAACCCCAAAIIIIAAAggggAAC6SuQ5sBWilXA/u1at2KZli1Laut3HFJk+tZtx+hmxXhd0fGDp3Ql1Nqvl9kxzV90MUT66vLx3dq1bbPWrrxvlmi37aRuh6UMuaN1fc9mrUz4u1WbddAz1vEFMSICCCCAAAIIIIAAAggggAACCCCAAAIIZBgBBwS2GWYtFIIAAggggAACCCCAAAIIIIAAAggggAACCGRqAQLbTL19FI8AAggggAACCCCAAAIIIIAAAggggAACWUmAwDYr7SZrQQABBBBAAAEEEEAAAQQQQAABBBBAAIFMLUBgm6m3j+IRQAABBBBAAAEEEEAAAQQQQAABBBBAICsJENhmpd1kLQgggAACCCCAAAIIIIAAAggggAACCCCQqQUIbDP19lE8AggggAACCCCAAAIIIIAAAggggAACCGQlAYcGtmZjvOLjUzSDUeYMoGUyPFiXwWhyel3mFDUZTKkjmY2GDGmaAbaVEhBAAAEEEEAAAQQQQAABBBBAAAEEEMhyAg4JbE0+uzSxdgVVrlFPDVxc5JLYmqjnsMW6Eu8sM6MCj89Vv1IlVK3OvZoS/myjsdP2yc9JZRmj72r/z0PVvOb9mmq3GKjvN11TZEqrwAP62qWyqlSvm8K0sboOmif3aCcVz7QIIIAAAggggAACCCCAAAIIIIAAAgggkK4CDglsYy/MUaOXCmnsCnf5+vvLP7EFKCgkSganHbGN1dXlo1QlTwX9euJeTQl/Bio0Ilb/41BruoKHXd2o2d8M0fxj92s6s3aE6lvqHDz9hMKNSdObri9WizwFNXy+m7xSmgZHKt5ppulKw+AIIIAAAggggAACCCCAAAIIIIAAAgj84wUcEthGHZymAgV7aM7FWIeBmkKva/uqnzX3bKCdY4br5KxRylNirA7F2DnE39btjuY2eUu5643VroCkNNZ48lcVLtBFP56I+NuqYCIEEEAAAQQQQAABBBBAAAEEEEAAAQQQcK6AQwJbr9VDlDtnE00+4KXw8HBFRMUq+aCojaszKi4iUjFxlhOmXpv1UatX1GVTiGUMk2JiYmw7rWsK1K4vWuqFAv20/k64pa4IRcYYbKwn4XWzDHHRiet6dEuoN4139ca5aVS915StylCt90oqMWjLSOXL4aLPt91WWIJppGX9dlRPFwQQQAABBBBAAAEEEEAAAQQQQAABBBDIPAIOCWy9t3ykymVKq1Kt+on319arXU9NPlyqGz62RYymsFOa3aSFXGt/qkU7lum7YSU1dv4uzRzTSqXbjNKW6zYEwcZgHf21q4oUK6fq9RLui22gWrVaqN/UfQoIteFOAUOwTi4emXwvb8q7cO/93101eaW70nIO1nP3hyqb47+qMnSp7iaTBez+VDXLl1LFmkn3AterU0cugxbospclzeZBAAEEEEAAAQQQQAABBBBAAAEEEEAAgSwp4JDANuEUqskYp5jIiMRTqH4XVuj9wgWVt/JXcguz0s1sCVHDoxQeE62zSzuq5pvZZClO/3rqRbmO/EFbL4Qr2t9HNn1vy2yS0RCrqIiE07Ghur7xa9XLm1/v9l4mL6tvbzDLaDlhGxERkUqLUmy8/Sds4y+tU6eyz+mpV1pqzqGA+1gWD5MpXjFRSaYBVzdoVJFCeqn0eB0OsSFwtpKf1xBAAAEEEEAAAQQQQAABBBBAAAEEEEDA+QIOCmz/vJBba0aoYM4i6rU9yIZVGnVr70SNHjNC7bpUU6tmudWkVSf1HzBWk+eskGe8DUM98tUobf+4oV4o1FjTLqV5sLQWo7g7O/VV1df1n+fe0furz+uvrtr13vGJiuYoqA7rfdM8NwMggAACCCCAAAIIIIAAAggggAACCCCAQMYTSLfANvzwDLX4b35Vmu5m9apjbm/V6AovqO3EpVq5ZY1+/rCIxq2zfHxs5ji17dxaQ9besnqsR79o1q3p/VTsyYrquzX5sti/GtEYolPLP1KzZs1SaX00dc1F269ECDurqV3f0BP/La5Ov7kpwPRXhUhRZ+ep4+OvqtR3h+28I/iv5+ANBBBAAAEEEEAAAQQQQAABBBBAAAEEEHCeQLoFtneXDVTBpwqozdo7Vq/OFBsiXw8/yyfGLE/wYX03tLH67AhM7B8TGSyv4L86g/pXU4Vpz6gaejpvXX15xspbZ80GRfjf0vnz51NpV+QZEGVTgGoKd9cPfd/Vfx8roG5fnbQ67PXfOFxFn8qnxktvWC6h4EEAAQQQQAABBBBAAAEEEEAAAQQQQACBrCaQ5sDW5H9RK9y8lPJKWNPtbepa42XlaDFCp4LTSmZPNBmvoNvntPJCyAOT+x6YpmpFXlTZ4XN0x0k3IsSHumtB3+p67oX86jp926OvQQi8pJUn7zwY5PrsV596efWs6yAd80+rKf0RQAABBBBAAAEEEEAAAQQQQAABBBBAICMKpDmwNfqs1Xul6qhJu27q3bu3pXVTuwZl1Wj0XK29Y3DOms1x8rRcyVAtf3W175VQk6X1aqMmDaqp+5R1Oh7qnLISZg05M0ttXrZ8UO35gmrQ7QP175tcX0KNE3/XMZ84yW+7Or5bTw1bd0027a4ODcqo3rBZWnHT6q+lOW+RzIwAAggggAACCCCAAAIIIIAAAggggAACdgmkObCV4hR8ZI82r12j1atXW9oabdl7TNF2lePAToZQ3d2xWWsTa0poa7Xv9DUHTmDfUMYoP10/fUD79+zU5nX3akv+c9dp3Q03WgY2KvT4Pm1dd990065DVl+dYF9l9EIAAQQQQAABBBBAAAEEEEAAAQQQQAABZws4ILB19hKYHwEEEEAAAQQQQAABBBBAAAEEEEAAAQQQyBoCBLZZYx9ZBQIIIIAAAggggAACCCCAAAIIIIAAAghkAQEC2yywiSwBAQQQQAABBBBAAAEEEEAAAQQQQAABBLKGAIFt1thHVoEAAggggAACCCCAAAIIIIAAAggggAACWUCAwDYLbCJLQAABBBBAAAEEEEAAAQQQQAABBBBAAIGsIUBgmzX2kVUggAACCCCAAAIIIIAAAggggAACCCCAQBYQcGhga4iLUXR09B8tJtYgUwZBiou5V1es4g1Gp1d1v55oxcSZU6/HEJvkGRuv//GW09dDAQgggAACCCCAAAIIIIAAAggggAACCCCQdgGHBLZGn50aX72sKlarqwYuLnJJbE3Uc9hiXYlPe5FpGcEYeUUrJ/VTxdrJddWvoZ7jp+t8eFpGtb+vKea61kzpqkr36rFY1arQQeN+PCz/qJTxtlnBx+frg3ouqm95p0FDVzX/frd8Iu2fm54IIIAAAggggAACCCCAAAIIIIAAAgggkLEFHBLYxlyYI9eX39THq68oMCREIcktLDxGzjzLavB304zORfV2kwHaciW5Lt8zOnP+jK74O2djYu7u0fZlI7X12n2nC+tGq/7L+dThsx3ySwaLuDhFLcqU0/u/nZC/xdPffbWGvl1Exfv8JJ8459TOrAgggAACCCCAAAIIIIAAAggggAACCCCQvgIOCWyjDk5TgYI9NedirMOqNYVe1ZZl0zTrdICdY0bo9Mx+eueVLlrpa+cQf1s3T81vVlQv1xmtHYnLDdb6LgVUfsgC3frjhHKwNg/PoWzZ39LwA6F/W2VMhAACCCCAAAIIIIAAAggggAACCCCAAAJ/n4BDAluv1YP1co5G+m7vnaTTtWFRsu8QqEExoWGKjJGM3pv1cet86ro5IZw0KDIySvE2XOJqDHXT5PZvq+iAnYpSdFJdoZGKs/lSXbPiYyL+ODV87/Tw/T/DFGW5q9eG0v68u1FHNaBSLj3e+HMdTVhu1F6NKJhPbb85oKRo1qjb++bLpUMNVS73mt795ohFhAcBBBBAAAEEEEAAAQQQQAABBBBAAAEEspqAQwJb723jVe3dMqpcs57q16+vOjVry3XIIl3zsu0CW1OYm2Y1bi6XGuO1YOsSfTu0hMbM2aafRrRQiVYjteWa9VcsRF1eou558qnEuBmaO6V/Yl31alRVyx6TdDTAhjjZEKyTi0ck9n9066JJKy4owsbfjPgwL11xO6zDh3dqTv8OqlSmtsYuOaPEK2qvLFC5gjnUa96FxGA23G2hprVepPWnNmpMtZx6x2W5vGycj9cRQAABBBBAAAEEEEAAAQQQQAABBBBAIOMLOCSwTVim2WxUXEy0oqKiFHh5jYYWKaiXK36mE9b+632z5YxqeLQi4+N0YWVX1X4rmyzF6V9PvqjGY2Zo56VIxQT4Ws7KWvOYFHR0mupme0xPv9RQQ/bcSqwr4tYGTaz/ikrU/1Z7w609amuWyRCn6OjoVFqM4g0mm0/Yhl5ap8mD2qhNm9aqW7u+Oo9ZpWv3bn84P0fFC+bS0BXXFXJrk4YMaaX1ly31xpzRlJbZVaz6EnlYw8A7CCCAAAIIIIAAAggggAACCCCAAAIIIJCpBBwW2D686tvrR6lQzrfUY1uQDSAGXd85Th+O/FDtutZSu5Z51LxtV/XrO1LfzLSElFYfjDUp8NAkVfpPLhVpvUYhKSrwXTZMpd56V/23+9lQV/q+Gn9zuYYXKqGK/RfrYkIifXm+ihfKqRYTZ+jb8d/os8PeSQWEn9DkVi+qWLXFBLbpuyWMjgACCCCAAAIIIIAAAggggAACCCCAgFME0i2wDT88Q83/L78qTXezemExt7dodMUc6vTlKq3dvlY/DX1LY9bf1O65n6hjt3YasvamlWOZFXlhvtrnel1lZp16oE/MhW/VsmRBtfninHX37BpC5LZsrJo0aZJK66UfVl+0+UqEhxdy7adGyvtYLX2x23IkOWanuufPpeeyN9TEdZ5/vGrw2qHR9fOo5Ac7kq5O4EEAAQQQQAABBBBAAAEEEEAAAQQQQACBLCWQboHt3aX9VeDpAmq37q7VYKa4MAV4BSZdLxB8RJM/bKZ+O5LuCYiLDpNvaKzVYxn9D+rjJrlU/LszD/QJ2DZa5Yq/o+5LPay7xsBs+eBZ4B1dvnw5lXZDPkHRls+Cpe0593Mj5c5WSeM3+FsGuqt5FXPr6WzdtDHw/rhhJ6erXo7X1XQNFyKkTZveCCCAAAIIIIAAAggggAACCCCAAAIIZEyBNAe2Jr8LWnzszgN3yxpublbHai8rZ6sxOhvipIXH+WnXNzVVPFcP/eKTXEPcKU11eU1PFe+nBXetvl/BgQuIlvfZCzq6595ltUlDR7vNV7f8OfRync+02zsplL67sYOKP1lI7WdfTJ7fQwvblNczlXvqyIPdHVgfQyGAAAIIIIAAAggggAACCCCAAAIIIICAMwXSHtj6rlObUrXk2rqTunfvbmmd1LpeWTX76Hdt8kzrudM00kTc1oYxXVSzXLPE2to1qK3qlQZqyf67ik/j0PZ1j9b52RPV6MmKapVoldA6qK7Fr8XAH3TwRvj9YY3+2v9Df5V6tYKaWd7r0rKOSld4XwtOpzhya18R9EIAAQQQQAABBBBAAAEEEEAAAQQQQACBDCqQ5sDWclmBQk8c1I7NG7VxY0LbpJ2H3BSTYRYcoVs7tiTWtmnrUV3xcm5hxghvXdq/XZsTrZK8th679sCH0e5XGKe7x/ZqS8J7W/fqpJ/BucUzOwIIIIAAAggggAACCCCAAAIIIIAAAgikq4ADAtt0rY/BEUAAAQQQQAABBBBAAAEEEEAAAQQQQACBf4wAge0/ZqtZKAIIIIAAAggggAACCCCAAAIIIIAAAghkdAEC24y+Q9SHAAIIIIAAAggggAACCCCAAAIIIIAAAv8YAQLbf8xWs1AEEEAAAQQQQAABBBBAAAEEEEAAAQQQyOgCBLYZfYeoDwEEEEAAAQQQQAABBBBAAAEEEEAAAQT+MQIEtv+YrWahCCCAAAIIIIAAAggggAACCCCAAAIIIJDRBRwQ2JoUHxWpiIiIB1pkdKwMJpPMZucSGKJT1BYdLyeX8yCGKU4xsfEyWoUUn+hpylALcO7eMjsCCCCAAAIIIIAAAggggAACCCCAAAJZTcABge1NrevRQU3q11f9e61BfdWrXlHFKjRWj62eTjEzx4fo0tpP1K5C7T/qqt2gtQb8uEe+oU4pKWlSc5yCvS7r9JGtmjSqlyq++47qDvxex4P+R01GPy0f9abeKlVV76267sTimRoBBBBAAAEEEEAAAQQQQAABBBBAAAEE0lPAAYGtSXGW07XhYWEKS27hYX46PLWVsj9fQN23+aVn/amOHR/srg1T++vnvXf/qMvr1Bz1KVFMrt2XyiPWKWXJ7H9WC8c1UNWmg/X9bxs1vVc5lao6SNtTZYrTne0j1KNdY5V9PI9KzzrvnMKZFQEEEEAAAQQQQAABBBBAAAEEEEAAAQTSXcABge0jaoy+oGkt8ilf6Q91OtK+NZhCLmvDosn6yc3fvgEe2StKh8Y3Ut43XDXFPc6B41o/lDnET943riogsYufVnSvqPJ1hmpnKssMODVLnfp20ept89XrpcKq8BuBrfXavIkAAggggAACCCCAAAIIIIAAAggggEDmEkiHwNasgP3fqkrOPKr23UUZbPIwKDooROGWkNfks0Xj2+RT9y1hlhHiFBYeoTiTTYM94mUvLXq/orK97qIJbhFWDma5ozc6TIGBgam0YEVEG+y8G9dTS/9XYBtzUj/VKqEBKz0UdGWZeuQqqPIEtlbuG68hgAACCCCAAAIIIIAAAggggAACCCCQ+QQcH9gaA7R5zLvKka+2Ft6x7QtZplA3zWrSQi7Vx+i3DQv11ZB3NHLmJk0b1lTvtBqlLdeiZUyDccSVOWpd9L96vf44nQy3sjZDsE4uGSUXF5dUWjdNXukua+PfB8v/H4GtKVxrPi2mUh0m6YYl9Y6/slhdcxDYpmH76YoAAggggAACCCCAAAIIIIAAAggggECGF3B4YBvnsUF9iuRQgTark//Zv5UGZkuAGhGjaJNBl9f2UN23sslSnLI98YKafvSL9l6NUWygr6KtHO5PrwW56YtGBfWfF0rq44U3bTr5a7bUFB8fn0ozyGiyMvz9U1GpB7aBG4Yqb5EymnQk4YSxFHvp96TAds4FewXohwACCCCAAAIIIIAAAggggAACCCCAAAIZXMDBga1BVxZ00SvZ82vwvqSg0bYnTle3jNDgYUPVtltddWqTV+916KG+vYbp858W6Ka9HwoLvaAFXUrquWy5Ve+HLQq1rah0fPvRgW30paXqUO5x1flsl4KTZ4+9vFjdcryhCnMvpmM9DI0AAggggAACCCCAAAIIIIAAAggggAACzhRwaGBr8NuvUW/l1eudp8nTjm96xdzeotEVX1K3b9dr0651+nHImxq94bYOLPpCXXq01+A1N223Mnpp7YSaejbbS6rx6SZ52FqXIURuS0fL1dU1ldZDU1Y59kqE0B1jVCz/i3qnagM1bpw0b4PqJZXvsaf0QolqatF3pNZeS8vlELYz0gMBBBBAAAEEEEAAAQQQQAABBBBAAAEE0l/AgYGtSTfX9lL2Zwvrg833zoXatgBTXISCfJP7hhzV9yPf08CdAYmDxMeEyz/cxiO2Bj9tnNhCj/3rSVXvvkVe9txcYDYqKthL169fT6Xdll9IjOz7HtqjT9ia46MUHBQgT4+bf8x5butktXzhVZX8arNueHgqNNaexdi2H7yNAAIIIIAAAggggAACCCCAAAIIIIAAAn+vgOMCW8NNzXF9QTnKjVHytat/70oems0U66vdXzdVvv88ozrDfpW3U6tJbfIIbehTWRXrj9bR+P9doOHaEnXLXkDl51/JkCuhKAQQQAABBBBAAAEEEEAAAQQQQAABBBBIu4CDAluTvHaMUknLB8LqTHHTX2SPaa/aihEMgUc0oZLlo2X/96zKNu+rXt06q3OnTuqU0AZ9raWnA60YJX1eibi5S7+MTKilpaq8/ryey1lYtVsl/PyDNp8NeeSkkRfmq+Oz+VR65rn0KYpREUAAAQQQQAABBBBAAAEEEEAAAQQQQMDpAg4KbM2K8r6oI2dOyzPcvssBHC1hNkbJ99pJnTh2VPt3bdXWrSnanhO64h/j6CmtHi8+9I7OHUioZ7t2HzyiI4cPaNe2hJ9P6VbAo699MEUH6tbpc7oYEG31PLyIAAIIIIAAAggggAACCCCAAAIIIIAAAplLwEGBbeZaNNUigAACCCCAAAIIIIAAAggggAACCCCAAAIZUYDANiPuCjUhgAACCCCAAAIIIIAAAggggAACCCCAwD9SgMD2H7ntLBoBBBBAAAEEEEAAAQQQQAABBBBAAAEEMqIAgW1G3BVqQgABBBBAAAEEEEAAAQQQQAABBBBAAIF/pACB7T9y21k0AggggAACCCCAAAIIIIAAAggggAACCGREAQLbjLgr1IQAAggggAACCCCAAAIIIIAAAggggAAC/0gBBwS2RsWFhyk0NPSBFhYZrTiDUUazc10jw+/XFRYeI6Nzy0me3ayYlHVF/6+qzIqMiFJMvEEmJ1tmCDqKQAABBBBAAAEEEEAAAQQQQAABBBBAIAsLOCCwval1vTqqmYuLXFK0+tUrqEi5huq25a5T+MyGEJ1ZPEClqzX4o646VVzVqd9iXfSPkbOyz/iIG9o+pa9cq933qtG4hz5fdk7B0fepjJHeOnfyqHbOnqRaNcqrROkq+mx3gFMsmRQBBBBAAAEEEEAAAQQQQAABBBBAAAEE/h4BBwS2JhmioxUVFfVHi44M1NFprZT9+QLqucP/71nJQ7MYI+7Ibe0QbbgY8Uddvmd/14ASuVXlvak6H+OUshR+bYsWTB2rVRfue13fMV6uuUurz6RDCk0+bOu7dpQaNG2htp0XaPv6z+XyUj71X+XlnKKZFQEEEEAAAQQQQAABBBBAAAEEEEAAAQT+FgEHBLaPqDPqnH5omlf5yozUmSj71mEKvqi187/WtBOODHxjdOSTJspbsKG+uxBrX2Hp0stT85sVUc7ao7TdP+nsb9SN87qTHCpHn5iuFq+8ocFrvdNldgZFAAEEEEAAAQQQQAABBBBAAAEEEEAAgYwhkA6BrUn++75WpZx5VH3yJRlsWme8Iv0CFBwmmXy26pO2r6rn1nDLDzEKCglVjMmmwR7xsod+7lJc2Yq21YLrVlZmNik2Mli+vr6ptACFRsYrTaXFHNeHdfIpW7UPtdHrzyMFH5mq5gS2ad18+iOAAAIIIIAAAggggAACCCCAAAIIIJDhBRwf2Br9tWlUWeXIV1eLbLy+1hTqplmWawAaVB2hX9fM0+fvF9eHP6/V5MGN9PZ7o7TlarTNHw0zxQTq2okd2rFjmxZ9OlD1ylRXv++2ytvahNVyF+7JJaPUsGHDVFo3TV7prgi7t9qsG1sGqcTzj6nmiFXyfkSOTGBrNy4dEUAAAQQQQAABBBBAAAEEEEAAAQQQyFQCDg9s426tV683c6hgu7UKtIXCbLkKICJWsZbPgV3b0Fv13somS3HK9sTzajZhtg7diFN8kJ9svXo2LvCslk3spE6dOum9xvXl0m2S9tt6HYKlNpPJlEozK6F0e5/o00v13ttP6dk3OmrxyeBHDkNga68u/RBAAAEEEEAAAQQQQAABBBBAAAEEEMhcAg4ObON1eV4n5c1eQB8csFxlYPMTq0vrB6vf+0PUpruLurV/RW0691af7oM1YeocXbc1rX14/qizlhO8FVS0guWjX17xNlfn6A7R19fpozIv6185ymvk1qtKrSICW0fLMx4CCCCAAAIIIIAAAggggAACCCCAAAIZU8Chga3Bb69GvJlH+bvOkD15aMztLRpTJa96TdmkrbvXafrgwhq5wUOHl36j7r07aciam2lWDN//sao++Zpafu1uOc1rxWO5EsFt6Wi5urqm0npoyio7rkQIPKYv27yqx554V/2WXJDl2t5UHwJbK/aJVxBAAAEEEEAAAQQQQAABBBBAAAEEEMgCAg4MbE26sbq7Xnz2TQ3bGmIXjTk+UqEBySdzQ45p2ti2GrwrIHEsY1yUgiLi7Bo3ZaeA3aNV5l+vqPmE09YFtmajokN9dfv27VSapwLDYm366Jgh6JS+6FRc/378TQ2YduEvr3kgsE3ztjMAAggggAACCCCAAAIIIIAAAggggAACmULAcYFt/A3NbvC8cpYfp2P23IbgUC6jwm9f0M4l1x4MZT12aELFV/V8oZ6ac/HR98U6tIxHDBYXdFq/diqrJ18opH6z98uaCNp0/le998obGr4jKr3LY3wEEEAAAQQQQAABBBBAAAEEEEAAAQQQcKKAgwJbk7x2jFLJp3Ko/g+nZHDigpKmNirIbYG6ZCuh+h06qmPHhNZBjavVUK32E7X9lK9NJ2IduZzQs7PVIZ/lY2o5Cqlu+77q1vlefZY/x8zRQc97F/WG6fi8D9SrU0e1rl9GeR97UoWrtbSso78++uaYghxZFGMhgAACCCCAAAIIIIAAAggggAACCCCAQIYQcFBga1aU7xWdvHBBPpGmDLEwGcPlfeqw9u7apV3Jbc9Rd3k6+VtjxphgeV49ozMnj+vg3vu1JdZ47LLFz5jsFy//K4cS69+975COnzqlowf2WNZyQMdP+1l3nUPG2AmqQAABBBBAAAEEEEAAAQQQQAABBBBAAAErBRwU2Fo5G68hgAACCCCAAAIIIIAAAggggAACCCCAAAIIpCpAYMsvBwIIIIAAAggggAACCCCAAAIIIIAAAgggkEEECGwzyEZQBgIIIIAAAggggAACCCCAAAIIIIAAAgggQGDL7wACCCCAAAIIIIAAAggggAACCCCAAAIIIJBBBAhsM8hGUAYCCCCAAAIIIIAAAggggAACCCCAAAIIIEBgy+8AAggggAACCCCAAAIIIIAAAggggAACCCCQQQQcENgaFBMSrKDAQAWmaEGh4YqOi1O8yZxBlmqWyRCt6Nh4GUxOLslsVGTwfa/g8PhUC4oOD0lyDQpVZKyT62Z6BBBAAAEEEEAAAQQQQAABBBBAAAEEEEhXAQcEtje1rldHNXNxkcu91tBF9au9q0Kl6qnz5rvpugBrB4/13K7xjV7R61W66YuT4dZ2c/h78eHXtOW7nnKpet+rRqOu+uT30wqMSjGdKUruqz9R2aq11SDBtW4d1a7xmbbeCFLq8a7Dy2VABBBAAAEEEEAAAQQQQAABBBBAAAEEEPgbBRwQ2JpltJykjYuNVWxyi4sN0fHprZXjxTfUZ2fA37icR09ljrioXQt7qX2linrtleoacDDEaTWFX9+m32dM0LrL971u7/lUjXOXVM9vDirEmFCaQXfXDdHrJSrogxUXFZXgGnRGv3Qsqjff7Kw1d519RNhpfEyMAAIIIIAAAggggAACCCCAAAIIIIBAlhZwQGD7CJ/Is5rSOI/ylR2tc9H2+ZmC3bV67hf64biffQPc62UI1p75w9X58wna+evHqpi3ugYdDk3bmA7v7aUFzYsoR+1R2p6Yb3toZo08ytnoe12Kuz9ZxPEZapa9gN5b7enwChgQAQQQQAABBBBAAAEEEEAAAQQQQAABBJwvkA6BrUl+e75UxZx5VPOHy0o8MGrtY45TmJePAoIlo+82TWz3qnpvi7D8ECm/gCBF2TRY0qRBx37UBxXr68fb8fJb+L5K5bExsLXcNxsT7q+7d++m0nwUHB6nNJ15jT6qobVfUbbqH2qTT0LVAVrZ5S09V3Ok9ofcx/NcM0JVni+qQTsDrRXlPQQQQAABBBBAAAEEEEAAAQQQQAABBBDIRAKOD2yNftoworRyvFpfS208CGoKddOsZi1Uv/IH+nH5bH068G0Nnb5CXw9wUbGWo7TlapTlsgDrH4PnXo3umFcun+5P7OQxc5Dtga0hRCeXjparq2sqrbumrHSXJVa28zHp2qb+Kv7c46o9ao18kkPp2Msr1aNjQ3UY+YvWb96szStnaFDLGurY/yedsX8yO2ukGwIIIIAAAggggAACCCCAAAIIIIAAAgj8HQIOD2zjbq5Vj8I5VLDjBgXZsgKzWYqMS/yg1s0t/VT/rWyyFKdsjz+vFp/O1zEPgwzBfoqxdkxzgDZNqKUXLB8ZOxyS1On2rKQTtu8fdd5Hxx4uP+rk72pe5Ek992YXLTuVXGjCSwZPrfiht1yqNFPnbt3UrUNTVW06QPO2+ForwHsIIIAAAggggAACCCCAAAIIIIAAAgggkMkEHBzYxunSnA7Kk6OgPjxoxzFQc4wurBmg3oMGq03PRurZMZ/ade2rvt0G6aPvZ+mKtffhWsa5smqwShV+Se+vS7gU1iyz2aAbvySfsD0UYvnZEhA7+Ym6ulqjS72kf+eqpDHbr6c4PeytfQMa6ukqXbTA8nGypCdCR79ro9IvNtdHJ/2dXDnTI4AAAggggAACCCCAAAIIIIAAAggggEB6CDg0sDX47NawN/KoYPdf5JNwVNbGJ+bWFo2t+pr6T9+unfvWa+qgQhqx4a6Or56i3v27asiaG9aNaI7QiZ/eU848r6t6g2ZybdhQDRu6qGbx1/Xc49n1eqV66vLpbzptuSv3L5+EKxGWjLb0TxjjUc2+KxHM/of1actX9NhTFTVoxSU9cOb3xiKVz/2MKn19WCm+OSYF79bwd57RG43WyPsvC+cFBBBAAAEEEEAAAQQQQAABBBBAAAEEEMhsAg4MbE26vrKLXnjuLQ3fHmqXg9kQrfCQqKS+ISf048edNHRPwglZyWSIUWiUtSmwWab4GIWFhsrfx0teXgntjo58011vv1RR3ddfkm9QmGKt+YiZ2aTY8IDkMe6NlfJPX4VE2PbRsfiAE5YPqhXVv58oosE/XXwwlE1Y7OU5Kpk3u8p+feTBvws9rs+qvKhC9ZYQ2Nr1G0YnBBBAAAEEEEAAAQQQQAABBBBAAAEEMraA4wLbuGuaWe855azwkY7bcRvC38F013KHbcmXq+n948mh8N8x6UNzxAW66ef2pfT4C4XVf86BP4e1Ce9HXdXPLXIoW7kWmnvu3j0QRp2Z7aqi/86rXitvyuSE2pkSAQQQQAABBBBAAAEEEEAAAQQQQAABBNJXwEGBrUle20eq5DO51HD6mRR3saZv8baNbtTNXwaqZO5qGnjYvhPAts336LdDz/6mjq9ZPqaWs7DqtO2lTu3bqV275DbqNx24mxTQRt/dot8Gl9er5eqpdcLft2qk6qWrauzyHfI3OKISxkAAAQQQQAABBBBAAAEEEEAAAQQQQACBjCbgoMDWrGj/6zpz5bL8opz/Ma9HI5sVH+yjG1duySfaeedTTbGh8r7pLvezp3Xs0H7t35+iuV2z+KW4p8EULHe3wzqQ8M6Bwzpz2XlBc0b7xaUeBBBAAAEEEEAAAQQQQAABBBBAAAEEsqKAgwLbrEjDmhBAAAEEEEAAAQQQQAABBBBAAAEEEEAAgb9XgMD27/VmNgQQQAABBBBAAAEEEEAAAQQQQAABBBBAIFUBAlt+ORBAAAEEEEAAAQQQQAABBBBAAAEEEEAAgQwiQGCbQTaCMhBAAAEEEEAAAQQQQAABBBBAAAEEEEAAAQJbfgcQQAABBBBAAAEEEEAAAQQQQAABBBBAAIEMIkBgm0E2gjIQQAABBBBAAAEEEEAAAQQQQAABBBBAAAEHBLYGRQX4y8/XV74pml9giMKjYxRrNDtN2WwyKDo8XIH+KWvzU3BYjIxOq0oyxsUq0O9+TX6BUTI9XI/ZqLioKAUH+j3gGhAYoXjnkTpRjakRQAABBBBAAAEEEEAAAQQQQAABBBDI+gIOCGxvan3vTmresKEapmj1q5ZVgeK11WHjHScpGuV3cIY6vP6q3q2ZsrY2Gjttn/ydVVWEu5Z+2VLlat2vqUbppnr/s826HRx/vyr/Xfq4wlsqXaGWGvzh2ljdBs2Xe7STimdaBBBAAAEEEEAAAQQQQAABBBBAAAEEEEhXAQcEtmaZjUYZUzZDuE7OaKOc2Qup366AdF1A6oPH6vKyUaqUv66WXn+wPpPJeUdUYz0Pav/Gr3TM735Nd/d/qaa5X1aLsRvlbUhakfHqIjV59W19svamYh7wNcl51TtpK5kWAQQQQAABBBBAAAEEEEAAAQQQQACBf4iAAwLbR0iFn9Yk1zx6tdw4nY+xT9IUdF4rZn2iSUf97BtAYToxc6Ryl/hIR2LtHOJv6+athS3fVvZaI7XVLymONZz4WW8U6KYZbpF/WxVMhAACCCCAAAIIIIAAAggggAACCCCAAALOFUiHwNYkv92fq3zOvKo9/aptd8WaYxTicVc+lvsKjH7b9VmH19RvhyWwjA+Xl6+/Im25eNYYoO0TXfV03s5acOaWbt26JQ/vINl8m4DlLtnoEJ/E/o9udxUQGvPnO2ht2dfgvepW+kU91fxrnQhN6ui/8QPlfr66Ri07pZsJc3t4K8iW9dsyP+8igAACCCCAAAIIIIAAAggggAACCCCAQIYQcHxga/DV+g9LKcerLlruZdsaTSFumt28pepXHKjvF/+iCf2LafD3i/V533oq2nKUtlyJVPKNAX89sDFUpxZ9oKrVaquBayM1auSqWlXqq+3YVbruZfUolqOuIXJbOsbSP2GMR7Ue+n6VuyL+uqIH3ogNvKbjO9Zq7dol+rZjK9Ws0Urfrb+kqOS3gg79oFautVS3gWvivC51qqtK6yk6dD6cKxFstOZ1BBBAAAEEEEAAAQQQQAABBBBAAAEEMouAwwPb2Jtr1K1QDr3ReZOCbVEwW64CiIxPDGRvb+uvBm9mk6U4ZXvsObX8bKFO3jXJGOIvO29YSKwk6MhMNX/9FRVuN0s37iWjttTowHfDrm7RjJHd1b17dzVr3FAdhy7Wee/Ub6c1BBzS1+++pacKv6/tviYHVsJQCCCAAAIIIIAAAggggAACCCCAAAIIIJBRBBwc2MbJfXY75c75hkYetuPuVXO0zi7vpW79BqlNr6bq0+VVdewxUH0699Pob3/SRTuGfBA6Tge/aK5cBVz07XnrL7Y1my1h8cMfVvvjZ5NMCWFzWh7fLZpQ7G290/lXnQhJfazAg9+obPb8arnyblpmoy8CCCCAAAIIIIAAAggggAACCCCAAAIIZFABhwa28d47NaRAbr3Rc5Z8bbh14J5NzK0tGle9oAb/skf7Dq7XDwPe0IcbvHRqw3QNGNRdH6y5kUZGk25O66siT1RQny1W3tdguRLh5JJRcnFxSaV10+SVtl+J8PBCrs9qolf/XV2fbEr9I2uRZ+ao3WOvquQ3h6y/GiKNYnRHAAEEEEAAAQQQQAABBBBAAAEEEEAAgb9PwIGBrVHXVnTSC88X0cgdYXatwGyIUVR48snXkBP6aUJXDdsTkDSWMU4RMXakwA9UEqytQyvoydddNMXd2jsRTIqLDJGfn18qLVBhUfFpvlf21FQX5cxWRRM2+qRq57N6kN545lW1XnPHLl86IYAAAggggAACCCCAAAIIIIAAAggggEDGFnBcYBt3RT/Xfla5Kk7QSVu/wOVoI3Oc/K4c0ox9KYNNs65umKhShV9Wzc9Wyd/o6EmtGS9KHkeOa/uq2w8EvEF7pqt1nuzK33yKjvhbAmu/U/p5+wX5pKgx7uo6vVc5j3K2H6+LodbMxTsIIIAAAggggAACCCCAAAIIIIAAAgggkNkEHBTYmuS5baRKPf+yGs84J6dkoQ/Ix8v3xCw1fK28GrdqrdatLa1VQ7k0rK9Rvx/SlbR8uSxNOxyji/M/V9Ony8o1oabE1kzVSjdQl48X6pxP8uni4F3qV6GWark0T36npZrVLqt2X6/XXr803pebpvrpjAACCCCAAAIIIIAAAggggAACCCCAAALpKeCgwNasmMDbcr9xXYExGSRQtHzALOT8KR07ekRHjlja0WO6eDv1+2HTEznl2OaYYN294KZjCTUltqM6ecVH0Q8UYFLsjYs6ffzoH++4nb/KvbV/1yYxDwIIIIAAAggggAACCCCAAAIIIIAAAk4ScFBg66TqmRYBBBBAAAEEEEAAAQQQQAABBBBAAAEEEMhCAgS2WWgzWQoCCCCAAAIIIIAAAggggAACCCCAAAIIZG4BAtvMvX9UjwACCCCAAAIIIIAAAggggAACCCCAAAJZSIDANgttJktBAAEEEEAAAQQQQAABBBBAAAEEEEAAgcwtQGCbufeP6hFAAAEEEEAAAQQQQAABBBBAAAEEEEAgCwkQ2GahzWQpCCCAAAIIIIAAAggggAACCCCAAAIIIJC5BRwQ2MYrwtdbXp6e8kzRvHwDFBIRqWiDyflC5lj5et2rz1uBIREyOr+qpAostUVHhio0MlYPU8UE+t139fJTSHxGKZo6EEAAAQQQQAABBBBAAAEEEEAAAQQQQCA9BBwQ2N7Uul4d1czFRS73WkMX1atSWq8WraG2G+6kR91WjxkTcFS/jG2r0jWS66tXVV3HTtGpUKuHSNcXvY9+o/bvvKiXmnyitXcMyXPFy+/IFPWpVUd16ifV3aBePdXpP1WHr0Smaz0MjgACCCCAAAIIIIAAAggggAACCCCAAALOE3BAYGsp3my2/O9+kylCbjNaK1eOwhq4J9Bpq4u9u09fNsmvkh3G60RAcn2xd3Tr9nXdCnJaWX9MHOexVr/92Evt33hTL1Toq7k37wW2kTq1ZIxm7jiv0Pikug3h7prbs7xKFhmqHX4Z4NSy8/moAAEEEEAAAQQQQAABBBBAAAEEEEAAgSwn4JjA9mGWMDd965Jbr777sdxj7DMzBZ7T0p/H6evDvvYNYA7V0WndVOT197UjIx5KDXPXjx911tDFc7V1SFu9XraX5t66F9g+esmBO79Uhez51XzlXftM6IUAAggggAACCCCAAAIIIIAAAggggAACGVogHQJbk3x3fqpyOfKqzoxrsuksqDlaQddv6a6PWUb/Hfq80+sasDNKiguRh6e3wv93nvkAtDHoqL5sWUTFh+9VVIy3rl69qqvX7ygwwsb9MBsVFeSZ1P+R7ZZ8g6NtW6fidP7nnurs8oG2R5p0bkhd5S7T+y8C2zhdmd9Fj2cvoLpLbti4CF5HAAEEEEAAAQQQQAABBBBAAAEEEEAAgcwg4PjA1uCjtcNKKsdrrlrpbRuBKcRNs5q1UN3y/TRp4U/6uG8xDZq0UJ/0qq23WozSFsv9rdZltmZFui9UZ0toXOyDLzXlq/5q1KiRXGuWV/2WI7XlRrj1hRlC5LZ0TGL/R7ce+n6Vu2zJgf0PfaemDYtq8DIPSx0GHe5T568D27ATGunyXz2Vz0Wr79gUg1u/Vt5EAAEEEEAAAQQQQAABBBBAAAEEEEAAAacKODywjb2xSl0K5lChrpsVYsvSLPe0KtKQeFL1zs731fCtbLIUp2yPP6dWXy7WaS+zTKH+su6GBZMCj0xVrWyP6ZlczTXuZPI9uiFHNK15fr1Z6SNtDDTaUp3j3g09ofFtiqpw16lKyrMjdbiv5YRt2T6af8di8MjHR+s7lbd4PKc2H51WBvlemuNMGAkBBBBAAAEEEEAAAQQQQAABBBBAAAEEEgUcHNjG6sKvbfRyrsIac9RylYGtjylSpxd1UadeA9W6d0sN6P66OvcerD4de2v4l9N03upjrCYFHZqsKv95WcUswXF0ijoC143Wu0VLq/cGa4//WoJiY7zi4uJSafEyGFMLWh8CiPXRponV9FrxCprmFi5TXKxiYwO0u2ctvVy6h2ZejlScwagHR/PXzs+rKLclvM4/6Bf5WjmVrfS8jwACCCCAAAIIIIAAAggggAACCCCAAALOF3BoYBvvvUODXn9ZhXrPkb8dB1hjbm3WuBpv6sPZB3To8AZN6VdQQzd669zWX/T+kF76YI31d7dGXVqkznnzq+zcsw8ox7p/p1YlC6j1Z2ctN8la8RiCdXLxCNWvXz+V1kWTVlyw7kqEqBtaPKaG8hV+R3UbuiaPV0fl8+XQ48/lU/Hq9TRo5i55x96rK1Yn5vbSC//6r/L1maVT1h0vtmJRvIIAAggggAACCCCAAAIIIIAAAggggAACGVHAgYGtUVeXddDzzxfT6F1hdq3VbIxVdGRyjGq5z/bXz3pq5L6ApLFM8YqKte4G24TXjQFH9EmLHCr2yYkHavFZN0zF3y6lXqs9HzrJmlrJJsVHhykwMDCVFqKIaIOVYyWd1o2JilRI0L3xbmtTl+p6qUQXTT/lq9CoWCUd2I2W+6z39bzlZG2+qr/p/B8hrl20dEIAAQQQQAABBBBAAAEEEEAAAQQQQACBTCDguMA29pJ+rPGMclWeKLfIDLByy8nYIzOaq+wLrfTF5eRLEYL26NMqufViuRFa7Wd9+Ju+q4nWkd61lKtUL827e2+mWF1Z3lel/pNNhZsM0ymrr4JI30oZHQEEEEAAAQQQQAABBBBAAAEEEEAAAQTSV8BBga1JnttGqNSLedXsl/Oy4zaE9FllXKAO/jBEriXqqmXLlmpUvabqN5yonReCrDwRmz5lPThquA71r6987/bT/Nv3QuRQrX0/v154/D8qWKOV2rdrlVh/YmvXTx+tvpRxjP8OIuZAAAEEEEAAAQQQQAABBBBAAAEEEEDgHyLgoMDWrNjgu7ri4aGQDPdP9+MVdP603NzcdOrMdfmGZ7SdNSkmwEceXgGKMNz7ophJUUGe8rh5U1cunEms/Y926ryu+ERkoMA5o3lSDwIIIIAAAggggAACCCCAAAIIIIAAAplXwEGBbeYFoHIEEEAAAQQQQAABBBBAAAEEEEAAAQQQQCCjCBDYZpSdoA4EEEAAAQQQQAABBBBAAAEEEEAAAQQQ+McLENj+438FAEAAAQQQQAABBBBAAAEEEEAAAQQQQACBjCJAYJtRdoI6EEAAAQQQQAABBBBAAAEEEEAAAQQQQOAfL0Bg+4//FQAAAQQQQAABBBBAAAEEEEAAAQQQQAABBDKKAIFtRtkJ6kAAAQQQQAABBBBAAAEEEEAAAQQQQACBf7wAge0//lcAAAQQQAABBBBAAAEEEEAAAQQQQAABBBDIKAJ/BLb8HwgggAACCCCAAAIIIIAAAggggAACCCCAAALOF/h/SYCdehcwWzQAAAAASUVORK5CYII=)\n"
      ],
      "metadata": {
        "id": "2k-A34exT2c_"
      }
    },
    {
      "cell_type": "markdown",
      "source": [
        "### Significance of the list\n",
        "\n",
        "\n",
        "create a list and save data all at once. In Python, you can create a list with []. For instance, write as following to save the height of 5 different students in a list.\n"
      ],
      "metadata": {
        "id": "aFsobw4CVJ3e"
      }
    },
    {
      "cell_type": "code",
      "source": [
        "# use list to store multiple values in a single variable\n",
        "\n",
        "\n",
        "heights = [10,11,11.34,11.45,11.89]\n",
        "print(heights)"
      ],
      "metadata": {
        "id": "tFwy9UWxVGuf"
      },
      "execution_count": null,
      "outputs": []
    },
    {
      "cell_type": "markdown",
      "source": [
        "### create a list with multiple items \n",
        "\n",
        "\n",
        "In Python, the list can be created as other variables. Write the items in [] and save as variables, then the list variable will be created. The following is an example of a simple list made with 3 members of BTS.\n"
      ],
      "metadata": {
        "id": "v-jutKOzVcyA"
      }
    },
    {
      "cell_type": "code",
      "source": [
        "bts = ['v','jungkook','jimin']\n",
        "print(bts)"
      ],
      "metadata": {
        "id": "iBa4xYHKVWFL"
      },
      "execution_count": null,
      "outputs": []
    },
    {
      "cell_type": "markdown",
      "source": [
        "create an empty list as follows:"
      ],
      "metadata": {
        "id": "hTZvnf2WVqsN"
      }
    },
    {
      "cell_type": "code",
      "source": [
        "bts = []\n",
        "print(bts)"
      ],
      "metadata": {
        "id": "ZtT4DBplVo2Y"
      },
      "execution_count": null,
      "outputs": []
    },
    {
      "cell_type": "markdown",
      "source": [
        "### create a list with multiple items \n",
        "\n",
        "How can an empty list without any items be used? Items can be added to the empty list by using codes. Most of the time, we cannot predict how many items will be included in the list, and if so, using an empty list is helpful. Use the append method to newly add items to the list.\n"
      ],
      "metadata": {
        "id": "eWk2ORoMV1kg"
      }
    },
    {
      "cell_type": "code",
      "source": [
        "bts = []\n",
        "\n",
        "bts.append('V')\n",
        "bts.append('jungkook')\n",
        "bts.append('jimim')\n",
        "\n",
        "print(bts)"
      ],
      "metadata": {
        "id": "ujV_-H0dVvxx"
      },
      "execution_count": null,
      "outputs": []
    },
    {
      "cell_type": "markdown",
      "source": [
        "The most convenient way to add an element in a list is to use the + operator."
      ],
      "metadata": {
        "id": "_QgzNQg5WECJ"
      }
    },
    {
      "cell_type": "code",
      "source": [
        "bts = []\n",
        "bts = bts+['V']\n",
        "print(bts)"
      ],
      "metadata": {
        "id": "hlLsMAbrWAiB"
      },
      "execution_count": null,
      "outputs": []
    },
    {
      "cell_type": "markdown",
      "source": [
        "### built-in functions used in list \n",
        "\n",
        "If the following values are found in the list, built-in functions including len, max, min, sum, any can be used for convenience.\n",
        "\n",
        "- len returns the length of the list\n",
        "- max returns the maximum item value of the list, and min returns the minimum item value of the list\n",
        "- If the list has numerical items, sum adds up all of the elements. \n"
      ],
      "metadata": {
        "id": "6pBKTaNiWVMM"
      }
    },
    {
      "cell_type": "code",
      "source": [
        "n_list = [200,100,500,700,900,-1]"
      ],
      "metadata": {
        "id": "nYy8NIU_WNFq"
      },
      "execution_count": null,
      "outputs": []
    },
    {
      "cell_type": "code",
      "source": [
        "len(n_list)"
      ],
      "metadata": {
        "id": "Xg8u5zx1WhhE"
      },
      "execution_count": null,
      "outputs": []
    },
    {
      "cell_type": "code",
      "source": [
        "max(n_list)"
      ],
      "metadata": {
        "id": "QbuqGJr3WjbW"
      },
      "execution_count": null,
      "outputs": []
    },
    {
      "cell_type": "code",
      "source": [
        "min(n_list)"
      ],
      "metadata": {
        "id": "gp6XNDKjWliv"
      },
      "execution_count": null,
      "outputs": []
    },
    {
      "cell_type": "code",
      "source": [
        "sum(n_list)"
      ],
      "metadata": {
        "id": "6iFuRFhGWmxF"
      },
      "execution_count": null,
      "outputs": []
    },
    {
      "cell_type": "markdown",
      "source": [
        "### Applicable function for the list \n",
        "\n",
        "- It is possible to add the value created from the range function to the list through list(range()) as shown below. \n",
        "- Among the applicable functions for the list, the any function returns True if there is at least one element that is not 0. any(n_list) returns True.\n",
        "- In the a_list consists of 0 and ‘’ (whitespace), the any function returns False.\n"
      ],
      "metadata": {
        "id": "6cfg-YV0WxGK"
      }
    },
    {
      "cell_type": "code",
      "source": [
        "list(range(1,11))"
      ],
      "metadata": {
        "id": "X91ov4FsWoAY"
      },
      "execution_count": null,
      "outputs": []
    },
    {
      "cell_type": "code",
      "source": [
        "n_list = [100,400,300,500,200]\n",
        "a_list = [0,'']\n",
        "print(n_list)\n",
        "print(a_list)"
      ],
      "metadata": {
        "id": "6Q2KLjfPW7I9"
      },
      "execution_count": null,
      "outputs": []
    },
    {
      "cell_type": "code",
      "source": [
        "any(a_list)"
      ],
      "metadata": {
        "id": "t8g7FhqqXEZa"
      },
      "execution_count": null,
      "outputs": []
    },
    {
      "cell_type": "code",
      "source": [
        "any(n_list)"
      ],
      "metadata": {
        "id": "9ExtlL2lXGRQ"
      },
      "execution_count": null,
      "outputs": []
    },
    {
      "cell_type": "markdown",
      "source": [
        "### operating the list element value \n",
        "\n",
        "To add an item by using a function, use append or insert functions. While the append function will add an item at the end of the list, insert(index, item) adds an item to a designated index.\n"
      ],
      "metadata": {
        "id": "p7t3TOCLXSsH"
      }
    },
    {
      "cell_type": "code",
      "source": [
        "slist = [\"a\",10,20,100,\"b\"]"
      ],
      "metadata": {
        "id": "x-hbxH8yXHqM"
      },
      "execution_count": null,
      "outputs": []
    },
    {
      "cell_type": "code",
      "source": [
        "print(slist)"
      ],
      "metadata": {
        "id": "kbfGFkWCXbiL"
      },
      "execution_count": null,
      "outputs": []
    },
    {
      "cell_type": "code",
      "source": [
        "slist.insert(1,\"c\")\n",
        "slist.insert(4,\"d\")\n",
        "print(slist)"
      ],
      "metadata": {
        "id": "m_VzVeF7XcxG"
      },
      "execution_count": null,
      "outputs": []
    },
    {
      "cell_type": "markdown",
      "source": [
        "### Slicing method \n",
        "\n",
        "To make a new list by selecting some elements from a list, use slicing. For slicing a list, use a colon as following to designate a range.\n"
      ],
      "metadata": {
        "id": "AJjAkyLmXs94"
      }
    },
    {
      "cell_type": "code",
      "source": [
        "letters = ['A','B','C','D','E','F']\n",
        "print(letters)"
      ],
      "metadata": {
        "id": "jjfQLA0bXlhT"
      },
      "execution_count": null,
      "outputs": []
    },
    {
      "cell_type": "code",
      "source": [
        "letters[2:5]"
      ],
      "metadata": {
        "id": "tqB5BGuGX1nA"
      },
      "execution_count": null,
      "outputs": []
    },
    {
      "cell_type": "markdown",
      "source": [
        "- Slicing a list does not damage the original list. It creates and returns a new list. In other words, the slice is a partial copy of the original list.\n",
        "- If the first index is omitted, slicing is done from the start. The following code will do slicing from the 1st item to the 3rd item.\n"
      ],
      "metadata": {
        "id": "ftM6zEP_X7b7"
      }
    },
    {
      "cell_type": "code",
      "source": [
        "letters[:3]"
      ],
      "metadata": {
        "id": "VAjv3deJX4Mp"
      },
      "execution_count": null,
      "outputs": []
    },
    {
      "cell_type": "markdown",
      "source": [
        "If the second index is omitted, slicing is done to the end of the list, which is a very convenient function.\n"
      ],
      "metadata": {
        "id": "e10__NtWYEhF"
      }
    },
    {
      "cell_type": "code",
      "source": [
        "letters[3:]"
      ],
      "metadata": {
        "id": "8CyVnwDmYArD"
      },
      "execution_count": null,
      "outputs": []
    },
    {
      "cell_type": "markdown",
      "source": [
        "Slicing a list does not damage the original list. It creates and returns a new list. In other words, the slice is a partial copy of the original list.\n"
      ],
      "metadata": {
        "id": "_ypqs73DYMfJ"
      }
    },
    {
      "cell_type": "code",
      "source": [
        "# colon referes to start:end\n",
        "\n",
        "letters[:]"
      ],
      "metadata": {
        "id": "snyDp5MdYGMM"
      },
      "execution_count": null,
      "outputs": []
    },
    {
      "cell_type": "code",
      "source": [
        "# read list from start to end but skip with step \n",
        "letters[::2]"
      ],
      "metadata": {
        "id": "eaYbJgmdYSug"
      },
      "execution_count": null,
      "outputs": []
    },
    {
      "cell_type": "code",
      "source": [
        "# read back to front\n",
        "letters[::-1]"
      ],
      "metadata": {
        "id": "ZH--27-1Yb6z"
      },
      "execution_count": null,
      "outputs": []
    },
    {
      "cell_type": "markdown",
      "source": [
        "### Sorting methods: sort() \n",
        "\n",
        "Use the sort method of the list for ascending order sorting of the list elements. If adding reverse = True keyword argument, it becomes descending order sorting.\n",
        "- Keyword argument refers to an argument that commands a method or function, and it will be discussed later. \n"
      ],
      "metadata": {
        "id": "4LrjjKGuYqOw"
      }
    },
    {
      "cell_type": "code",
      "source": [
        "list1 = [10,100,20,-2,90,45]\n",
        "\n",
        "list1.sort()\n",
        "\n",
        "print(list1)"
      ],
      "metadata": {
        "id": "OcveJ-hHYg_w"
      },
      "execution_count": null,
      "outputs": []
    },
    {
      "cell_type": "code",
      "source": [
        "list1.sort(reverse=True)\n",
        "print(list1)"
      ],
      "metadata": {
        "id": "m4619AVjY4MN"
      },
      "execution_count": null,
      "outputs": []
    },
    {
      "cell_type": "markdown",
      "source": [
        "### Methods provided by List\n"
      ],
      "metadata": {
        "id": "LSpm__jcZBVA"
      }
    },
    {
      "cell_type": "code",
      "source": [
        "print(dir(list))"
      ],
      "metadata": {
        "id": "twE52_g_Y9Qq"
      },
      "execution_count": null,
      "outputs": []
    },
    {
      "cell_type": "code",
      "source": [
        "\n",
        "# for method in dir(list):\n",
        "#   print(help(method))"
      ],
      "metadata": {
        "id": "UddhkVsOZTMN"
      },
      "execution_count": null,
      "outputs": []
    },
    {
      "cell_type": "markdown",
      "source": [
        "## PAIR PROGRAMMING"
      ],
      "metadata": {
        "id": "Tq5e2LdyZrtZ"
      }
    },
    {
      "cell_type": "markdown",
      "source": [
        "### Q1. There is a list with the string s_list = ['abc', 'bcd', 'bcdefg', 'abba', 'cddc', 'opq’]. Implement the following function to this list.\n",
        "\n",
        "Do not use the min function or sort method to print the shortest string from the strings of s_list. (If there are multiple shortest strings, print the string that shows the first as following.)\n",
        "\n",
        "\n",
        "    output example:\n",
        "    The shortest string : abc\n"
      ],
      "metadata": {
        "id": "aO-DExlAZuSg"
      }
    },
    {
      "cell_type": "markdown",
      "source": [
        "### Q2. There is a list with the string s_list = ['abc', 'bcd', 'bcdefg', 'abba', 'cddc', 'opq’]. Implement the following function to this list.\n",
        "\n",
        "Do not use the min function or sort method to print the shortest string from the strings of s_list. (If there are multiple shortest strings, print the string that shows the first as following.)\n",
        "\n",
        "    output example:\n",
        "    The longest string : bcdefg\n"
      ],
      "metadata": {
        "id": "0uu3IcHAaKk-"
      }
    },
    {
      "cell_type": "markdown",
      "source": [
        "### Q3. There is a list with the string s_list = ['abc', 'bcd', 'bcdefg', 'abba', 'cddc', 'opq’]. Implement the following function to this list.\n",
        "\n",
        "- From the pair programming problem earlier, the length of 'abc', 'bcd', 'opq’ are the same as 3. Likewise, if the string lengths are the same, write a program that prints all of the three shortest strings as follows. Use the sort(key=len) function to sort the strings by length and then write a code.\n",
        "\n",
        "\n",
        "    output example:\n",
        "    The shortest strings : 'abc', 'bcd', 'opq'\n"
      ],
      "metadata": {
        "id": "5P32dGWZaWyI"
      }
    },
    {
      "cell_type": "markdown",
      "source": [
        "## Dictionary Data Type: dict\n",
        "\n",
        "\n",
        "definition:\n",
        "\n",
        "In this unit, we’ll discuss dictionary, which is an extremely useful data structure of python.\n",
        "- Dictionary is a data type that has key-value pair. \n",
        "- It is a widely used data structure since it refers to the value by using the key.\n",
        "- Dictionary is very similar with a list, but its unique characteristic is that it has a key-value pair. \n",
        "- Also, since the dictionary looks up the value by using a key, the keys cannot be duplicated.\n"
      ],
      "metadata": {
        "id": "8TZRKRW2k8DW"
      }
    },
    {
      "cell_type": "markdown",
      "source": [
        "- Dictionary item is defined by being connected with a colon as [key] : [value].\n",
        "- Dictionary consists of more than one item.\n",
        "- The [value] can be looked up by using the [key], but the [value] cannot be used to look up the [key].\n",
        "\n",
        "\n"
      ],
      "metadata": {
        "id": "Po_vSkJHlXg9"
      }
    },
    {
      "cell_type": "markdown",
      "source": [
        "### comparison of list and dictionary\n",
        "\n",
        "- In the list, indices can be used to approach each value [value 1], [value 2], … [value n]. Each value is the item.\n",
        "- Indices of the list is from 0 to n-1.\n",
        "- On the other hand, the key-value pair is one item in the dictionary.\n"
      ],
      "metadata": {
        "id": "b8c1H74hlxTj"
      }
    },
    {
      "cell_type": "markdown",
      "source": [
        "### This is the syntax that defines a dictionary. The key-value pair is combined with a colon.\n",
        "\n",
        "    Dictionary name = {[height 1] : [value 1], …}\n",
        "\n",
        "    person = {'Name' : 'David Doe', 'Age' : 26, 'Weight' : 82 } # Dictionary with name, age, weight\n"
      ],
      "metadata": {
        "id": "EB_fWRW0l-lz"
      }
    },
    {
      "cell_type": "markdown",
      "source": [
        "### key:value printing using dictionary key\n",
        "\n",
        "Create a dictionary with the following information. As shown in the code below, it is possible to look up ’David Doe’ through the person dictionary key ‘Name,’ and the same method applies to ‘Age’ and ‘Weight.’\n"
      ],
      "metadata": {
        "id": "zEBRIAQ8mYtb"
      }
    },
    {
      "cell_type": "code",
      "source": [
        "person = {'name':'Ram','age':10,'weight':66.45}"
      ],
      "metadata": {
        "id": "bl67HTSLZZ1J"
      },
      "execution_count": null,
      "outputs": []
    },
    {
      "cell_type": "code",
      "source": [
        "print(person)"
      ],
      "metadata": {
        "id": "bTfyl8ximwD0"
      },
      "execution_count": null,
      "outputs": []
    },
    {
      "cell_type": "code",
      "source": [
        "print(type(person))"
      ],
      "metadata": {
        "id": "JvUsocO7mz8k"
      },
      "execution_count": null,
      "outputs": []
    },
    {
      "cell_type": "code",
      "source": [
        "person['name']"
      ],
      "metadata": {
        "id": "N_d-l1UAm1kc"
      },
      "execution_count": null,
      "outputs": []
    },
    {
      "cell_type": "code",
      "source": [
        "person['age']"
      ],
      "metadata": {
        "id": "3gzvfLj_m3e2"
      },
      "execution_count": null,
      "outputs": []
    },
    {
      "cell_type": "code",
      "source": [
        "person['weight']"
      ],
      "metadata": {
        "id": "v0-YYvsom45h"
      },
      "execution_count": null,
      "outputs": []
    },
    {
      "cell_type": "markdown",
      "source": [
        "### Example code for dict key,value\n",
        "\n",
        "Creates a new dictionary named “students” that have [ID number] : [Name] pairs of three students. \n"
      ],
      "metadata": {
        "id": "l5a9KqyQnDNF"
      }
    },
    {
      "cell_type": "code",
      "source": [
        "students = {10001:'Ram',10002:'Shyam',10003:'Sita',10004:'Gita'}"
      ],
      "metadata": {
        "id": "gUzmtt8im6nH"
      },
      "execution_count": null,
      "outputs": []
    },
    {
      "cell_type": "code",
      "source": [
        "students[10001]"
      ],
      "metadata": {
        "id": "qA7NQoMsnTGE"
      },
      "execution_count": null,
      "outputs": []
    },
    {
      "cell_type": "code",
      "source": [
        "students[10002]"
      ],
      "metadata": {
        "id": "riSQCjhanUsg"
      },
      "execution_count": null,
      "outputs": []
    },
    {
      "cell_type": "markdown",
      "source": [
        "### Inserting new item into dictionary \n",
        "\n",
        "Use the following method to insert a new item into dictionary.\n",
        "\n",
        "\n",
        "    Dictionary name [key] = value\n",
        "\n",
        "For deletion, enter the key of the dictionary item to be deleted next to the del keyword.\n",
        "KeyError occurs when trying to delete an item with invalid key.\n"
      ],
      "metadata": {
        "id": "ipIdZ1Buncpy"
      }
    },
    {
      "cell_type": "code",
      "source": [
        "person = {'name':'Ram','age':10,'weight':66.45}\n",
        "person['job'] = 'python developer'\n",
        "person['address'] = 'kathmandu,Nepal'"
      ],
      "metadata": {
        "id": "jh8quGFpnV4D"
      },
      "execution_count": null,
      "outputs": []
    },
    {
      "cell_type": "code",
      "source": [
        "print(person)"
      ],
      "metadata": {
        "id": "JKHGE2ZEnxUx"
      },
      "execution_count": null,
      "outputs": []
    },
    {
      "cell_type": "markdown",
      "source": [
        "Modifying the dictionary item: Modify the item value from 26 to 27 with the key 'Age'\n"
      ],
      "metadata": {
        "id": "aPtsuw6nn3Mj"
      }
    },
    {
      "cell_type": "code",
      "source": [
        "person['weight'] = 56.66\n",
        "print(person)"
      ],
      "metadata": {
        "id": "CWdUPONlnybb"
      },
      "execution_count": null,
      "outputs": []
    },
    {
      "cell_type": "markdown",
      "source": [
        "### Deleting an item in dictionary\n",
        "\n",
        "Deleting the dictionary item: Delete 'Age': 26 with the del command\n"
      ],
      "metadata": {
        "id": "kqGUloVooALZ"
      }
    },
    {
      "cell_type": "code",
      "source": [
        "print(person)"
      ],
      "metadata": {
        "id": "aUdbwHi9n7ff"
      },
      "execution_count": null,
      "outputs": []
    },
    {
      "cell_type": "code",
      "source": [
        "del person['address']\n",
        "print(person)"
      ],
      "metadata": {
        "id": "Y39imSYKoFGm"
      },
      "execution_count": null,
      "outputs": []
    },
    {
      "cell_type": "markdown",
      "source": [
        "\n",
        "**!! Cautions when deleting a dictionary item – KeyError occurs when deleting with an invalid key**"
      ],
      "metadata": {
        "id": "joqGBLw9oOuT"
      }
    },
    {
      "cell_type": "code",
      "source": [
        "person['address']"
      ],
      "metadata": {
        "id": "H8E1NXAHoIY8"
      },
      "execution_count": null,
      "outputs": []
    },
    {
      "cell_type": "markdown",
      "source": [
        "### Functions and Operators for dictionary:\n",
        "\n",
        "The applicable functions and operators for the dictionary are similar to those of the list.\n",
        "- len function\n",
        "- in operator \n",
        "- not in operator \n",
        "- == and != operator \n"
      ],
      "metadata": {
        "id": "Jc1WjM7Poq9q"
      }
    },
    {
      "cell_type": "code",
      "source": [
        "person = {'name': 'Ram', 'age': 10, 'weight': 56.66, 'job': 'python developer', 'address': 'kathmandu,Nepal'}"
      ],
      "metadata": {
        "id": "MunuTPYbojOz"
      },
      "execution_count": null,
      "outputs": []
    },
    {
      "cell_type": "code",
      "source": [
        "len(person)"
      ],
      "metadata": {
        "id": "JPthLvLHpIbT"
      },
      "execution_count": null,
      "outputs": []
    },
    {
      "cell_type": "code",
      "source": [
        "'name' in person"
      ],
      "metadata": {
        "id": "i74xqHh0pJmY"
      },
      "execution_count": null,
      "outputs": []
    },
    {
      "cell_type": "code",
      "source": [
        "'weight' in person "
      ],
      "metadata": {
        "id": "um32wJ3jpPnd"
      },
      "execution_count": null,
      "outputs": []
    },
    {
      "cell_type": "code",
      "source": [
        "'location' not in person"
      ],
      "metadata": {
        "id": "XvaeG0X0pRdg"
      },
      "execution_count": null,
      "outputs": []
    },
    {
      "cell_type": "code",
      "source": [
        "'sita' not in person"
      ],
      "metadata": {
        "id": "KJQamZ2bpUlS"
      },
      "execution_count": null,
      "outputs": []
    },
    {
      "cell_type": "markdown",
      "source": [
        "- == operator returns True if two dictionaries have the same item, and False if not. \n",
        "- != operator returns the opposite value. \n"
      ],
      "metadata": {
        "id": "ykuDM5N8pfyL"
      }
    },
    {
      "cell_type": "code",
      "source": [
        "d1 = {'a':10,'b':20,'c':30}\n",
        "d2 = {'c':30,'a':10,'b':20}"
      ],
      "metadata": {
        "id": "qXdADLGzpYbu"
      },
      "execution_count": null,
      "outputs": []
    },
    {
      "cell_type": "code",
      "source": [
        "d1==d2"
      ],
      "metadata": {
        "id": "P6UDZ3JSps36"
      },
      "execution_count": null,
      "outputs": []
    },
    {
      "cell_type": "code",
      "source": [
        "d1 != d2"
      ],
      "metadata": {
        "id": "cWJF5yFMpuIZ"
      },
      "execution_count": null,
      "outputs": []
    },
    {
      "cell_type": "markdown",
      "source": [
        "**comparison operators are not applicable in dictionary**"
      ],
      "metadata": {
        "id": "F7UA0uRlpzd6"
      }
    },
    {
      "cell_type": "code",
      "source": [
        "d1 > d2"
      ],
      "metadata": {
        "id": "P1FboKPZpvmX"
      },
      "execution_count": null,
      "outputs": []
    },
    {
      "cell_type": "markdown",
      "source": [
        "#### Example code to convert json data type into dictionary\n",
        "\n",
        "\n",
        "- The json module provides various functions to read json type files or strings as dictionary and convert them into strings.\n",
        "- To read the json type string, the loads function is used. The following is the process of reading and checking dictionary type personal data information in json data type. The json type data consists of strings can be converted into dictionary type through the loads function in the json module.\n"
      ],
      "metadata": {
        "id": "y0rrIa6FqE4G"
      }
    },
    {
      "cell_type": "code",
      "source": [
        "import json"
      ],
      "metadata": {
        "id": "aWTweSLTp5w8"
      },
      "execution_count": null,
      "outputs": []
    },
    {
      "cell_type": "code",
      "source": [
        "person  = {'name': 'Ram', 'age': 10, 'weight': 56.66, 'job': 'python developer', 'address': 'kathmandu,Nepal','isMarried':True}\n"
      ],
      "metadata": {
        "id": "kHUK1bD4qTHC"
      },
      "execution_count": null,
      "outputs": []
    },
    {
      "cell_type": "markdown",
      "source": [
        "convert dictionary to json"
      ],
      "metadata": {
        "id": "4IlooE2ZqbGk"
      }
    },
    {
      "cell_type": "code",
      "source": [
        "j = json.dumps(person) \n",
        "print(j)\n",
        "print(type(j))"
      ],
      "metadata": {
        "id": "VdazuWs6qaPS"
      },
      "execution_count": null,
      "outputs": []
    },
    {
      "cell_type": "markdown",
      "source": [
        "convert json data into dictionary"
      ],
      "metadata": {
        "id": "wcbBPHHFqtNi"
      }
    },
    {
      "cell_type": "code",
      "source": [
        "d = json.loads(j)\n",
        "print(d)\n",
        "print(type(d))"
      ],
      "metadata": {
        "id": "bvupQQvEqiHW"
      },
      "execution_count": null,
      "outputs": []
    },
    {
      "cell_type": "code",
      "source": [
        "d['name']"
      ],
      "metadata": {
        "id": "MK1abH-Gqz95"
      },
      "execution_count": null,
      "outputs": []
    },
    {
      "cell_type": "markdown",
      "source": [
        "### Example code to convert dictionary data type into json\n",
        "\n",
        "\n",
        "- Use the with() and open function to create the book.json text data in the writing mode (’w’).\n",
        "- Use the json.dump command to record the json_data in the file “f” in json type.\n",
        "Indent by using indent = '\\t’\n",
        "\n"
      ],
      "metadata": {
        "id": "kveYQcAerJeN"
      }
    },
    {
      "cell_type": "code",
      "source": [
        "data = j\n",
        "print(type(data))"
      ],
      "metadata": {
        "id": "CajBmrqDq1kB"
      },
      "execution_count": null,
      "outputs": []
    },
    {
      "cell_type": "code",
      "source": [
        "json_data = json.loads(data)\n",
        "\n",
        "# code to create json_data as person.json file \n",
        "\n",
        "with open('person.json','w') as f:\n",
        "  json.dump(json_data,f,indent='\\t')"
      ],
      "metadata": {
        "id": "iVmvXrLWrNp3"
      },
      "execution_count": null,
      "outputs": []
    },
    {
      "cell_type": "markdown",
      "source": [
        "## Paper Coding"
      ],
      "metadata": {
        "id": "QAG06j6nsRkR"
      }
    },
    {
      "cell_type": "markdown",
      "source": [
        "### Q1 . Create the capital_dic dictionary with the following string key-value items. Then, use the capital_dic to write results regarding Korea in the following dictionary items.\n",
        "\n",
        "\n",
        "![image.png](data:image/png;base64,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)\n",
        "\n",
        "output example:\n",
        "\n",
        "Seoul"
      ],
      "metadata": {
        "id": "95EAnzkGsU18"
      }
    },
    {
      "cell_type": "markdown",
      "source": [
        "### Q2. Create the fruits_dic dictionary that has elements of the following key-value items. Then, use this dictionary to print the price of each fruit as shown below.\n",
        "\n",
        "\n",
        "![image.png](data:image/png;base64,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)\n",
        "\n",
        "![image.png](data:image/png;base64,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)\n",
        "\n",
        "\n",
        "![image.png](data:image/png;base64,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)"
      ],
      "metadata": {
        "id": "mJxCYOikstbR"
      }
    },
    {
      "cell_type": "markdown",
      "source": [
        "### Dictionary declaration\n",
        "\n",
        "There are many ways to create a dictionary, but first use { } to create an empty dictionary and then add phone numbers one by one.\n"
      ],
      "metadata": {
        "id": "6mQRbKOwtJCd"
      }
    },
    {
      "cell_type": "code",
      "source": [
        "phone_book = {}"
      ],
      "metadata": {
        "id": "m3jBE2BOrxDc"
      },
      "execution_count": null,
      "outputs": []
    },
    {
      "cell_type": "code",
      "source": [
        "phone_book[\"David\"] = \"01-554422\"\n",
        "print(phone_book)"
      ],
      "metadata": {
        "id": "8u06UELqr6LA"
      },
      "execution_count": null,
      "outputs": []
    },
    {
      "cell_type": "markdown",
      "source": [
        "Dictionary can be created and initialized at the same time."
      ],
      "metadata": {
        "id": "xPetWrIZtdNr"
      }
    },
    {
      "cell_type": "code",
      "source": [
        "phone_book = {'David':\"01-554422\",'ioe':\"01-553322\"}\n",
        "print(phone_book)"
      ],
      "metadata": {
        "id": "XrJeDo_5tW-y"
      },
      "execution_count": null,
      "outputs": []
    },
    {
      "cell_type": "markdown",
      "source": [
        "Add few other phone numbers in the dictionary, and the following is the printed result.\n"
      ],
      "metadata": {
        "id": "YGMkVUrwtrcq"
      }
    },
    {
      "cell_type": "code",
      "source": [
        "phone_book['computer_dept'] = \"01-998866\"\n",
        "phone_book['civil_dept'] = '01-887766'\n",
        "print(phone_book)"
      ],
      "metadata": {
        "id": "FyvndOFEtnGe"
      },
      "execution_count": null,
      "outputs": []
    },
    {
      "cell_type": "markdown",
      "source": [
        "### how to delete an item from dictionary "
      ],
      "metadata": {
        "id": "RgbhDhPouDny"
      }
    },
    {
      "cell_type": "code",
      "source": [
        "d = {'a':10,'b':20,'c':30,'d':40}\n",
        "print('Before deletion: ')\n",
        "print(d)"
      ],
      "metadata": {
        "id": "1ZITKYm8t12a"
      },
      "execution_count": null,
      "outputs": []
    },
    {
      "cell_type": "code",
      "source": [
        "d.pop('c')\n",
        "print('after delete: ')\n",
        "print(d)"
      ],
      "metadata": {
        "id": "KqBbUQ6_uLnG"
      },
      "execution_count": null,
      "outputs": []
    },
    {
      "cell_type": "code",
      "source": [
        "# Print the items() function that returns the tuple pair (key-value) of dictionary\n",
        "print(d.items())"
      ],
      "metadata": {
        "id": "xexczgFouUwx"
      },
      "execution_count": null,
      "outputs": []
    },
    {
      "cell_type": "markdown",
      "source": [
        "## PAIR PROGRAMMING"
      ],
      "metadata": {
        "id": "Q469l7UtumLv"
      }
    },
    {
      "cell_type": "markdown",
      "source": [
        "Q1. Create the fruits_dic dictionary consists of key-value pairs including ('apple', 6000), ('melon', 3000), ('banana', 5000), ('orange', 4000). Then, print all of the key in the fruits_dic as list type and examine if the ‘apple’ and ‘mango’ keys are found in the fruits_dic, and print as follows.\n",
        "\n",
        "\n",
        "output example:\n",
        "\n",
        "![image.png](data:image/png;base64,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)"
      ],
      "metadata": {
        "id": "hq_ZCGd3usvt"
      }
    },
    {
      "cell_type": "code",
      "source": [],
      "metadata": {
        "id": "e8e1uAt9ufsF"
      },
      "execution_count": null,
      "outputs": []
    }
  ]
}