{
  "cells": [
    {
      "cell_type": "markdown",
      "metadata": {
        "id": "view-in-github",
        "colab_type": "text"
      },
      "source": [
        "<a href=\"https://colab.research.google.com/github/NeonLabs146/Samsung-Innovation-Campus/blob/main/Dictionary.ipynb\" target=\"_parent\"><img src=\"https://colab.research.google.com/assets/colab-badge.svg\" alt=\"Open In Colab\"/></a>"
      ]
    },
    {
      "cell_type": "markdown",
      "source": [
        "###Dictionaries are used to store data values in key:value pairs.\n",
        "###A dictionary is a collection which is ordered*, changeable and do not allow duplicates."
      ],
      "metadata": {
        "id": "R-s_d1UQTnox"
      },
      "id": "R-s_d1UQTnox"
    },
    {
      "cell_type": "code",
      "source": [
        "#Empty Dictionary\n",
        "dictionary = {}\n",
        "dictionary"
      ],
      "metadata": {
        "colab": {
          "base_uri": "https://localhost:8080/"
        },
        "id": "MaYf0mQ9ymCp",
        "outputId": "966b3d41-c40d-46b3-a8b6-b4118696c6e8"
      },
      "id": "MaYf0mQ9ymCp",
      "execution_count": null,
      "outputs": [
        {
          "output_type": "execute_result",
          "data": {
            "text/plain": [
              "{}"
            ]
          },
          "metadata": {},
          "execution_count": 2
        }
      ]
    },
    {
      "cell_type": "code",
      "source": [
        "#1D dictionary\n",
        "d1 = {'Name': 'Nancy', 'Age': 8, 'calss':3}\n",
        "d1"
      ],
      "metadata": {
        "colab": {
          "base_uri": "https://localhost:8080/"
        },
        "id": "jroktvnBy4NR",
        "outputId": "894a23e9-d69f-429e-e78d-fdda0a895322"
      },
      "id": "jroktvnBy4NR",
      "execution_count": null,
      "outputs": [
        {
          "output_type": "execute_result",
          "data": {
            "text/plain": [
              "{'Name': 'Nancy', 'Age': 8, 'calss': 3}"
            ]
          },
          "metadata": {},
          "execution_count": 4
        }
      ]
    },
    {
      "cell_type": "code",
      "source": [
        "#mixed dictionary\n",
        "dm = {'Name':'Nancy',(1,2,3):65}\n",
        "dm"
      ],
      "metadata": {
        "colab": {
          "base_uri": "https://localhost:8080/"
        },
        "id": "VUxzlAnUztfA",
        "outputId": "cb6dae6a-5b62-4e93-8005-ab3e15a30b65"
      },
      "id": "VUxzlAnUztfA",
      "execution_count": null,
      "outputs": [
        {
          "output_type": "execute_result",
          "data": {
            "text/plain": [
              "{'Name': 'Nancy', (1, 2, 3): 65}"
            ]
          },
          "metadata": {},
          "execution_count": 6
        }
      ]
    },
    {
      "cell_type": "code",
      "source": [
        "#2D dictionary\n",
        "d2 = {'Name': 'Neon', 'Age': 5,}"
      ],
      "metadata": {
        "id": "lSi_ub8szITp"
      },
      "id": "lSi_ub8szITp",
      "execution_count": null,
      "outputs": []
    },
    {
      "cell_type": "code",
      "execution_count": null,
      "id": "55f111db",
      "metadata": {
        "colab": {
          "base_uri": "https://localhost:8080/"
        },
        "id": "55f111db",
        "outputId": "37f2437e-e757-4b31-dd53-4ddbbca65fee"
      },
      "outputs": [
        {
          "output_type": "stream",
          "name": "stdout",
          "text": [
            "{'brand': 'apple', 'model': 'M1', 'year': 2020, 'color': ['red', 'silver', 'gold']}\n",
            "4\n",
            "<class 'dict'>\n",
            "M1\n"
          ]
        }
      ],
      "source": [
        "#@title\n",
        "thisdict={\n",
        "    'brand':'apple',\n",
        "    'model':'M1',\n",
        "    'year':2020,\n",
        "    'color':['red','silver','gold']\n",
        "}\n",
        "\n",
        "print(thisdict)\n",
        "print(len(thisdict))\n",
        "print(type(thisdict))\n",
        "\n",
        "print(thisdict['model'])\n"
      ]
    },
    {
      "cell_type": "code",
      "execution_count": null,
      "id": "5f3da265",
      "metadata": {
        "id": "5f3da265",
        "outputId": "385bbad5-c132-4693-e657-968742066222"
      },
      "outputs": [
        {
          "name": "stdout",
          "output_type": "stream",
          "text": [
            "dict_keys(['brand', 'model', 'year', 'color'])\n",
            "dict_keys(['brand', 'model', 'year', 'color', 'price', 'weight'])\n"
          ]
        }
      ],
      "source": [
        "#Getting new keys\n",
        "laptop={\n",
        "    'brand':'apple',\n",
        "    'model':'M1',\n",
        "    'year':2020,\n",
        "    'color':['red','silver','gold']\n",
        "}\n",
        "x=laptop.keys()\n",
        "print(x)\n",
        "laptop['price']=100000\n",
        "laptop['weight']='1kg'\n",
        "print(x)"
      ]
    },
    {
      "cell_type": "code",
      "execution_count": null,
      "id": "55caac9d",
      "metadata": {
        "id": "55caac9d",
        "outputId": "7816efd3-9046-4f86-aa45-eefcee7166c7"
      },
      "outputs": [
        {
          "name": "stdout",
          "output_type": "stream",
          "text": [
            "dict_values(['apple', 'M1', 2020, ['red', 'silver', 'gold']])\n",
            "dict_values(['apple', 'M1', 2020, ['red', 'silver', 'gold'], '100$', '1.2kg'])\n"
          ]
        }
      ],
      "source": [
        "#Getting new values\n",
        "laptop={\n",
        "    'brand':'apple',\n",
        "    'model':'M1',\n",
        "    'year':2020,\n",
        "    'color':['red','silver','gold']\n",
        "}\n",
        "x=laptop.values()\n",
        "print(x)\n",
        "laptop['price']=\"100$\"\n",
        "laptop['weight']='1.2kg'\n",
        "print(x)"
      ]
    },
    {
      "cell_type": "code",
      "execution_count": null,
      "id": "519143b9",
      "metadata": {
        "id": "519143b9",
        "outputId": "ecc94048-3fb1-49cc-98cd-2b86416d0e61"
      },
      "outputs": [
        {
          "name": "stdout",
          "output_type": "stream",
          "text": [
            "dict_items([('brand', 'apple'), ('model', 'M1'), ('year', 2020), ('color', ['red', 'silver', 'gold'])])\n",
            "dict_items([('brand', 'apple'), ('model', 'M1'), ('year', 2020), ('color', ['red', 'silver', 'gold']), ('price', '100$'), ('weight', '1.2kg')])\n"
          ]
        }
      ],
      "source": [
        "#Getting new items\n",
        "laptop={\n",
        "    'brand':'apple',\n",
        "    'model':'M1',\n",
        "    'year':2020,\n",
        "    'color':['red','silver','gold']\n",
        "}\n",
        "x=laptop.items()\n",
        "print(x)\n",
        "laptop['price']=\"100$\"\n",
        "laptop['weight']='1.2kg'\n",
        "print(x)"
      ]
    },
    {
      "cell_type": "code",
      "execution_count": null,
      "id": "52f7bcfd",
      "metadata": {
        "id": "52f7bcfd",
        "outputId": "d92fa4d4-9c69-4f1a-dcd0-72725b976d00"
      },
      "outputs": [
        {
          "name": "stdout",
          "output_type": "stream",
          "text": [
            "Yes! model is in the keys of dictionary\n"
          ]
        }
      ],
      "source": [
        "#Checking keys\n",
        "laptop={\n",
        "    'brand':'apple',\n",
        "    'model':'M1',\n",
        "    'year':2020,\n",
        "    'color':['red','silver','gold']\n",
        "}\n",
        "\n",
        "if \"model\" in laptop:\n",
        "    print(\"Yes! model is in the keys of dictionary\")"
      ]
    },
    {
      "cell_type": "code",
      "execution_count": null,
      "id": "d677dffe",
      "metadata": {
        "id": "d677dffe",
        "outputId": "d024c7ce-6696-415b-8ca2-6f898596cf9b"
      },
      "outputs": [
        {
          "name": "stdout",
          "output_type": "stream",
          "text": [
            "{'brand': 'apple', 'model': 'M1', 'year': 2022, 'color': ['red', 'silver', 'gold'], 'weight': '1.2kg'}\n"
          ]
        }
      ],
      "source": [
        "#Changing and adding\n",
        "laptop={\n",
        "    'brand':'apple',\n",
        "    'model':'M1',\n",
        "    'year':2020,\n",
        "    'color':['red','silver','gold']\n",
        "}\n",
        "\n",
        "laptop['year']=2022\n",
        "laptop['weight']='1.2kg'\n",
        "print(laptop)"
      ]
    },
    {
      "cell_type": "code",
      "execution_count": null,
      "id": "ca0b6e38",
      "metadata": {
        "colab": {
          "base_uri": "https://localhost:8080/"
        },
        "id": "ca0b6e38",
        "outputId": "2b7a6729-aa3e-4bbd-8d94-e4148f521808"
      },
      "outputs": [
        {
          "output_type": "stream",
          "name": "stdout",
          "text": [
            "{'brand': 'apple', 'model': 'M1', 'year': 2023, 'color': ['red', 'silver', 'gold']}\n"
          ]
        }
      ],
      "source": [
        "#Updating\n",
        "laptop={\n",
        "    'brand':'apple',\n",
        "    'model':'M1',\n",
        "    'year':2020,\n",
        "    'color':['red','silver','gold']\n",
        "}\n",
        "\n",
        "laptop.update({\"year\": 2023})\n",
        "\n",
        "print(laptop)"
      ]
    },
    {
      "cell_type": "code",
      "execution_count": null,
      "id": "2074eadc",
      "metadata": {
        "id": "2074eadc",
        "outputId": "da56afb6-ef15-4f5c-fbfb-db67d57a8601"
      },
      "outputs": [
        {
          "name": "stdout",
          "output_type": "stream",
          "text": [
            "{'brand': 'apple', 'model': 'M1', 'color': ['red', 'silver', 'gold'], 'weight': '1.2kg'}\n"
          ]
        }
      ],
      "source": [
        "#Removing\n",
        "laptop={\n",
        "    'brand':'apple',\n",
        "    'model':'M1',\n",
        "    'year':2020,\n",
        "    'color':['red','silver','gold']\n",
        "}\n",
        "\n",
        "laptop.pop(\"year\")\n",
        "\n",
        "print(laptop)"
      ]
    },
    {
      "cell_type": "code",
      "execution_count": null,
      "id": "d93d1beb",
      "metadata": {
        "id": "d93d1beb",
        "outputId": "c468e783-b9ff-4263-b349-d489cbcab00b"
      },
      "outputs": [
        {
          "name": "stdout",
          "output_type": "stream",
          "text": [
            "{'brand': 'apple', 'model': 'M1', 'year': 2022, 'color': ['red', 'silver', 'gold']}\n"
          ]
        }
      ],
      "source": [
        "#Removing the latest added item\n",
        "laptop={\n",
        "    'brand':'apple',\n",
        "    'model':'M1',\n",
        "    'year':2020,\n",
        "    'color':['red','silver','gold']\n",
        "}\n",
        "\n",
        "laptop['weight']='1.2kg'\n",
        "laptop['year']=2022\n",
        "laptop.popitem()\n",
        "\n",
        "print(laptop)"
      ]
    },
    {
      "cell_type": "code",
      "execution_count": null,
      "id": "c7104d50",
      "metadata": {
        "id": "c7104d50",
        "outputId": "76994844-37ea-43dc-99c7-affe0f4addbd"
      },
      "outputs": [
        {
          "name": "stdout",
          "output_type": "stream",
          "text": [
            "{'brand': 'apple', 'model': 'M1', 'color': ['red', 'silver', 'gold'], 'weight': '1.2kg'}\n"
          ]
        }
      ],
      "source": [
        "#The del keyword removes the item with the specified key name\n",
        "laptop={\n",
        "    'brand':'apple',\n",
        "    'model':'M1',\n",
        "    'year':2020,\n",
        "    'color':['red','silver','gold']\n",
        "}\n",
        "\n",
        "laptop['weight']='1.2kg'\n",
        "del laptop['year']\n",
        "print(laptop)\n",
        "#del laptop will clear the dictionary and produce error when you try to print"
      ]
    },
    {
      "cell_type": "code",
      "execution_count": null,
      "id": "a8f0f98b",
      "metadata": {
        "id": "a8f0f98b",
        "outputId": "a609c045-b245-42ae-8a73-4de7e77c9ae8"
      },
      "outputs": [
        {
          "name": "stdout",
          "output_type": "stream",
          "text": [
            "{}\n"
          ]
        }
      ],
      "source": [
        "#Clear will clear the dictionary\n",
        "laptop={\n",
        "    'brand':'apple',\n",
        "    'model':'M1',\n",
        "    'year':2020,\n",
        "    'color':['red','silver','gold']\n",
        "}\n",
        "\n",
        "laptop['weight']='1.2kg'\n",
        "laptop.clear()\n",
        "print(laptop)"
      ]
    },
    {
      "cell_type": "code",
      "execution_count": null,
      "id": "c81970f7",
      "metadata": {
        "id": "c81970f7",
        "outputId": "f4c71d97-1e7a-424a-aa2b-93680713f9e4"
      },
      "outputs": [
        {
          "name": "stdout",
          "output_type": "stream",
          "text": [
            "brand\n",
            "apple\n",
            "model\n",
            "M1\n",
            "year\n",
            "2020\n",
            "color\n",
            "['red', 'silver', 'gold']\n",
            "weight\n",
            "1.2kg\n"
          ]
        }
      ],
      "source": [
        "#loop through Dictionary\n",
        "laptop={\n",
        "    'brand':'apple',\n",
        "    'model':'M1',\n",
        "    'year':2020,\n",
        "    'color':['red','silver','gold']\n",
        "}\n",
        "\n",
        "laptop['weight']='1.2kg'\n",
        "for x in laptop:\n",
        "    print(x)              #print keyelements one by one\n",
        "    print(laptop[x])      #print values one by one\n",
        "#for x in laptop.values():\n",
        "#    print(x)"
      ]
    },
    {
      "cell_type": "code",
      "execution_count": null,
      "id": "779e8c6f",
      "metadata": {
        "id": "779e8c6f",
        "outputId": "84e01c8c-c257-44d1-d3ef-bf34044a1201"
      },
      "outputs": [
        {
          "name": "stdout",
          "output_type": "stream",
          "text": [
            "brand apple\n",
            "model M1\n",
            "year 2020\n",
            "color ['red', 'silver', 'gold']\n",
            "weight 1.2kg\n"
          ]
        }
      ],
      "source": [
        "for x, y in laptop.items():\n",
        "  print(x, y)"
      ]
    },
    {
      "cell_type": "code",
      "execution_count": null,
      "id": "7d195011",
      "metadata": {
        "id": "7d195011",
        "outputId": "c7707a6b-05c7-4c56-da6f-f433b89fe8f1"
      },
      "outputs": [
        {
          "name": "stdout",
          "output_type": "stream",
          "text": [
            "{'brand': 'apple', 'model': 'M1', 'year': 2020, 'color': ['red', 'silver', 'gold']}\n"
          ]
        }
      ],
      "source": [
        "#copy dictionary\n",
        "laptop={\n",
        "    'brand':'apple',\n",
        "    'model':'M1',\n",
        "    'year':2020,\n",
        "    'color':['red','silver','gold']\n",
        "}\n",
        "mylaptop=laptop.copy()\n",
        "print(mylaptop)"
      ]
    },
    {
      "cell_type": "code",
      "execution_count": null,
      "id": "ce4aeef0",
      "metadata": {
        "id": "ce4aeef0",
        "outputId": "7758e306-58b2-4e95-f6e2-0428fb7d28d5"
      },
      "outputs": [
        {
          "name": "stdout",
          "output_type": "stream",
          "text": [
            "{'brand': 'apple', 'model': 'M1', 'year': 2020, 'color': ['red', 'silver', 'gold']}\n"
          ]
        }
      ],
      "source": [
        "mydict = dict(laptop)\n",
        "print(mydict)\n"
      ]
    },
    {
      "cell_type": "code",
      "execution_count": null,
      "id": "178fc678",
      "metadata": {
        "id": "178fc678",
        "outputId": "e4f462e4-0528-4ef8-d246-588d3f754a28"
      },
      "outputs": [
        {
          "name": "stdout",
          "output_type": "stream",
          "text": [
            "{'child1': {'name': 'Nancy', 'year': 2015}, 'child2': {'name': 'Neon', 'year': 2018}, 'spous': {'name': 'Meshma', 'year': 2011}}\n"
          ]
        }
      ],
      "source": [
        "#nested Dictionary(2D)\n",
        "myfamily = {\n",
        "  \"child1\" : {\n",
        "    \"name\" : \"Nancy\",\n",
        "    \"year\" : 2015\n",
        "  },\n",
        "  \"child2\" : {\n",
        "    \"name\" : \"Neon\",\n",
        "    \"year\" : 2018\n",
        "  },\n",
        "  \"spous\" : {\n",
        "    \"name\" : \"Meshma\",\n",
        "    \"year\" : 2011\n",
        "  }\n",
        "}\n",
        "print(myfamily)"
      ]
    },
    {
      "cell_type": "code",
      "execution_count": null,
      "id": "e50333fa",
      "metadata": {
        "colab": {
          "base_uri": "https://localhost:8080/"
        },
        "id": "e50333fa",
        "outputId": "539e1a81-dac3-4bbc-eb1b-0462672f6f8f"
      },
      "outputs": [
        {
          "output_type": "stream",
          "name": "stdout",
          "text": [
            "{'child1': {'name': 'Nancy', 'year': 2015}, 'child2': {'name': 'Neon', 'year': 2018}, 'spous': {'name': 'Meshma', 'year': 2011}}\n",
            "{'child2': {'name': 'Neon', 'year': 2018}, 'spous': {'name': 'Meshma', 'year': 2011}}\n"
          ]
        }
      ],
      "source": [
        "child1 = {\n",
        "  \"name\" : \"Nancy\",\n",
        "  \"year\" : 2015\n",
        "}\n",
        "child2 = {\n",
        "  \"name\" : \"Neon\",\n",
        "  \"year\" : 2018\n",
        "}\n",
        "spous = {\n",
        "  \"name\" : \"Meshma\",\n",
        "  \"year\" : 2011\n",
        "}\n",
        "\n",
        "myfamily = {\n",
        "  \"child1\" : child1,\n",
        "  \"child2\" : child2,\n",
        "  \"spous\" : spous\n",
        "}\n",
        "print(myfamily)\n",
        "myfamily.pop(\"child1\")\n",
        "print(myfamily)"
      ]
    },
    {
      "cell_type": "code",
      "execution_count": null,
      "id": "e73f81cd",
      "metadata": {
        "colab": {
          "base_uri": "https://localhost:8080/"
        },
        "id": "e73f81cd",
        "outputId": "50c38f2c-d457-4a45-d6cb-a363a2957b84"
      },
      "outputs": [
        {
          "output_type": "stream",
          "name": "stdout",
          "text": [
            "<class 'dict'>\n",
            "{'Name': 'Kiran', 'Age': 34, 'Home_town': 'Butwal', 'Color': ['RED', 'GREEN', 'WHITE'], 'Family': {'Father': 'Mr.Mathura', 'Mother': 'Dhani sara'}, 'Married': True}\n",
            "{'Father': 'Mr.Mathura', 'Mother': 'Dhani sara'}\n"
          ]
        }
      ],
      "source": [
        "import json\n",
        "data='{\"Name\":\"Kiran\", \"Age\": 34, \"Home_town\":\"Butwal\", \"Color\":[\"RED\", \"GREEN\",\"WHITE\"],\\\n",
        "\"Family\":{\"Father\":\"Mr.Mathura\", \"Mother\":\"Dhani sara\"},\"Married\":true}'\n",
        "j_data=json.loads(data)\n",
        "\n",
        "print(type(j_data))\n",
        "print(j_data)\n",
        "print(j_data[\"Family\"])\n"
      ]
    },
    {
      "cell_type": "code",
      "source": [
        "#Formatting for better print\n",
        "for i in range(1,11,2):\n",
        "  print(\"{0:2d} {1:4d} {2:5d}\".format(i, i*i,i**3))\n",
        "\n"
      ],
      "metadata": {
        "colab": {
          "base_uri": "https://localhost:8080/"
        },
        "id": "QcfqQid1YDhp",
        "outputId": "d4219df5-3aa6-4750-dcff-41ca420b0a78"
      },
      "id": "QcfqQid1YDhp",
      "execution_count": null,
      "outputs": [
        {
          "output_type": "stream",
          "name": "stdout",
          "text": [
            " 1    1     1\n",
            " 3    9    27\n",
            " 5   25   125\n",
            " 7   49   343\n",
            " 9   81   729\n"
          ]
        }
      ]
    },
    {
      "cell_type": "code",
      "source": [
        "#Dictionary comprehension\n",
        "{j:{i:i*j for i in range(1,11)} for j in range(2,11)}"
      ],
      "metadata": {
        "colab": {
          "base_uri": "https://localhost:8080/"
        },
        "id": "PP16Ao4lqlgA",
        "outputId": "f4022958-5f60-4820-b41b-4d44aae23cad"
      },
      "id": "PP16Ao4lqlgA",
      "execution_count": 7,
      "outputs": [
        {
          "output_type": "execute_result",
          "data": {
            "text/plain": [
              "{2: {1: 2, 2: 4, 3: 6, 4: 8, 5: 10, 6: 12, 7: 14, 8: 16, 9: 18, 10: 20},\n",
              " 3: {1: 3, 2: 6, 3: 9, 4: 12, 5: 15, 6: 18, 7: 21, 8: 24, 9: 27, 10: 30},\n",
              " 4: {1: 4, 2: 8, 3: 12, 4: 16, 5: 20, 6: 24, 7: 28, 8: 32, 9: 36, 10: 40},\n",
              " 5: {1: 5, 2: 10, 3: 15, 4: 20, 5: 25, 6: 30, 7: 35, 8: 40, 9: 45, 10: 50},\n",
              " 6: {1: 6, 2: 12, 3: 18, 4: 24, 5: 30, 6: 36, 7: 42, 8: 48, 9: 54, 10: 60},\n",
              " 7: {1: 7, 2: 14, 3: 21, 4: 28, 5: 35, 6: 42, 7: 49, 8: 56, 9: 63, 10: 70},\n",
              " 8: {1: 8, 2: 16, 3: 24, 4: 32, 5: 40, 6: 48, 7: 56, 8: 64, 9: 72, 10: 80},\n",
              " 9: {1: 9, 2: 18, 3: 27, 4: 36, 5: 45, 6: 54, 7: 63, 8: 72, 9: 81, 10: 90},\n",
              " 10: {1: 10, 2: 20, 3: 30, 4: 40, 5: 50, 6: 60, 7: 70, 8: 80, 9: 90, 10: 100}}"
            ]
          },
          "metadata": {},
          "execution_count": 7
        }
      ]
    }
  ],
  "metadata": {
    "kernelspec": {
      "display_name": "Python 3 (ipykernel)",
      "language": "python",
      "name": "python3"
    },
    "language_info": {
      "codemirror_mode": {
        "name": "ipython",
        "version": 3
      },
      "file_extension": ".py",
      "mimetype": "text/x-python",
      "name": "python",
      "nbconvert_exporter": "python",
      "pygments_lexer": "ipython3",
      "version": "3.9.13"
    },
    "colab": {
      "provenance": [],
      "include_colab_link": true
    }
  },
  "nbformat": 4,
  "nbformat_minor": 5
}